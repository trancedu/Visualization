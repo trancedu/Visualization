{
 "cells": [
  {
   "cell_type": "markdown",
   "metadata": {
    "colab_type": "text",
    "id": "F-TKxfYNZvMO"
   },
   "source": [
    "# <center>Class 5<br>Additional Python Topics</center>\n",
    "\n",
    "## Opjectives\n",
    "In this class we will learn:\n",
    "<ul>\n",
    "    <li>Arguments ByRef/ByVal and the distiction between mutable and not mutable objects</li>\n",
    "    <li>Python’s *args and **kwargs</li>\n",
    "    <li>Function overloading – named arguments and Python’s assert()/isinstance()</li>\n",
    "    <li>Python’s decorators</li>\n",
    "    <li>Python’s memoization</li>\n",
    "    <li>Python’s threading</li>\n",
    "</ul>"
   ]
  },
  {
   "cell_type": "code",
   "execution_count": 1,
   "metadata": {},
   "outputs": [],
   "source": [
    "# normal imports\n",
    "import pandas as pd\n",
    "from datetime import datetime as dt, timedelta as td"
   ]
  },
  {
   "cell_type": "markdown",
   "metadata": {},
   "source": [
    "## 0. Python's variables\n",
    "Python is a non-declarative language. That is, Python does not require variables to be pre-defined as in c++ and other compiled languages. In Python, it is perfectly ok to run the following code:"
   ]
  },
  {
   "cell_type": "code",
   "execution_count": 2,
   "metadata": {},
   "outputs": [
    {
     "name": "stdout",
     "output_type": "stream",
     "text": [
      "7\n",
      "seven\n",
      "seven\n",
      "(7,)\n",
      "(7,)\n",
      "2022-01-25 19:43:01.743575\n",
      "Empty DataFrame\n",
      "Columns: []\n",
      "Index: []\n",
      "\n",
      "\n",
      "Am I missing domething?\n",
      "[7, 'seven']\n"
     ]
    }
   ],
   "source": [
    "myVar = 7\n",
    "print(myVar)\n",
    "myVar = 'seven'\n",
    "print(myVar)\n",
    "myvar = [7]\n",
    "print(myVar)\n",
    "myVar = (7,)\n",
    "print(myVar)\n",
    "myvar = [7, 'seven']\n",
    "print(myVar)\n",
    "myVar = dt.now()\n",
    "print(myVar)\n",
    "myVar = pd.DataFrame()\n",
    "print(myVar)\n",
    "print('\\n')\n",
    "print('Am I missing domething?')\n",
    "myVar = [7, 'seven']\n",
    "print(myVar)"
   ]
  },
  {
   "cell_type": "markdown",
   "metadata": {},
   "source": [
    "In addition, python makes a distinction between iterables, non-iterables, and maps.\n",
    "<ul>\n",
    "    <li>Iterables: collections of items such as lists, tuples, and dictionaries (the keys)</li>\n",
    "    <li>maps: these are named mappings that have both the variable name and the corresponding value a = 1, b = 2, ...</li>\n",
    "    <li>everything else: basically simple variables like a = 7 or a = dt.now()</li>\n",
    "</ul>\n",
    "\n",
    "Again, in Python, all variables, regardless of the type, are objects. But Python does not natively have what are called pointers: a methodology to access the memory address of an object. However, Python does natively understands that objects can be accessed from their physical memory addresses; this is accomplished via the * operator.<br>\n",
    "The * and ** operators work in the same way as a pointer in the sense that once can access/pass the values of the objects without the need to create multiple copies of them, Moreover, the * and ** operators allows us to use queues and other nice object-oriented capabilities."
   ]
  },
  {
   "cell_type": "code",
   "execution_count": 3,
   "metadata": {},
   "outputs": [
    {
     "name": "stdout",
     "output_type": "stream",
     "text": [
      "This will print the entire contents of the list a:      [1, 2, 3]\n",
      "This will print only the inner elements of the list a:  1 2 3\n"
     ]
    },
    {
     "ename": "TypeError",
     "evalue": "print() argument after ** must be a mapping, not list",
     "output_type": "error",
     "traceback": [
      "\u001b[0;31m---------------------------------------------------------------------------\u001b[0m",
      "\u001b[0;31mTypeError\u001b[0m                                 Traceback (most recent call last)",
      "\u001b[0;32m/var/folders/fs/mft52xr5317c0800jx05dvvm0000gn/T/ipykernel_44076/3060502720.py\u001b[0m in \u001b[0;36m<module>\u001b[0;34m\u001b[0m\n\u001b[1;32m      5\u001b[0m \u001b[0;34m\u001b[0m\u001b[0m\n\u001b[1;32m      6\u001b[0m \u001b[0;31m# this fails\u001b[0m\u001b[0;34m\u001b[0m\u001b[0;34m\u001b[0m\u001b[0;34m\u001b[0m\u001b[0m\n\u001b[0;32m----> 7\u001b[0;31m \u001b[0mprint\u001b[0m\u001b[0;34m(\u001b[0m\u001b[0;34m'This will fail because a is not a map '\u001b[0m\u001b[0;34m,\u001b[0m \u001b[0;34m**\u001b[0m\u001b[0ma\u001b[0m\u001b[0;34m)\u001b[0m\u001b[0;34m\u001b[0m\u001b[0;34m\u001b[0m\u001b[0m\n\u001b[0m",
      "\u001b[0;31mTypeError\u001b[0m: print() argument after ** must be a mapping, not list"
     ]
    }
   ],
   "source": [
    "# example of * operator\n",
    "a = [1, 2, 3]\n",
    "print('This will print the entire contents of the list a:     ', a)\n",
    "print('This will print only the inner elements of the list a: ', *a)\n",
    "\n",
    "# this fails\n",
    "print('This will fail because a is not a map ', **a)"
   ]
  },
  {
   "cell_type": "markdown",
   "metadata": {},
   "source": [
    "## 1. Python's Arguments\n",
    "Let's look at a simple python function that takes one arguments and see how python treats the arguments.<br>\n",
    "This we already talked about."
   ]
  },
  {
   "cell_type": "code",
   "execution_count": null,
   "metadata": {},
   "outputs": [],
   "source": [
    "# a multable object\n",
    "def func_mutable(mo):\n",
    "    # this takes a mutable object and changes it\n",
    "    mo.append(7)\n",
    "    print('This is the mutable object inside the function {}'.format(mo))\n",
    "    \n",
    "\n",
    "def func_nonmutable(nmo):\n",
    "    # this takes a non-mutable object and changes it\n",
    "    nmo = 7\n",
    "    print('This is the non-mutable object inside the function {}'.format(nmo))\n",
    "\n",
    "lst = [1,'a',['another list']]\n",
    "int_var = 9\n",
    "\n",
    "print('This is the mutable object before the function call: {}'.format(lst))\n",
    "func_mutable(lst)\n",
    "print('This is the mutable object after the function call: {}'.format(lst))\n",
    "print('\\n')\n",
    "print('This is the non-mutable object before the function call: {}'.format(int_var))\n",
    "func_nonmutable(int_var)\n",
    "print('This is the non-mutable object after the function call: {}'.format(int_var))"
   ]
  },
  {
   "cell_type": "markdown",
   "metadata": {},
   "source": [
    "### Named v. Positional arguments\n",
    "Let's now add a few more arguments to a simple concatenation function."
   ]
  },
  {
   "cell_type": "code",
   "execution_count": null,
   "metadata": {},
   "outputs": [],
   "source": [
    "# this is a function based on positional arguments only\n",
    "def my_concat(a, b, c):\n",
    "    return(a + b + c)\n",
    "\n",
    "# This executes the concat on the order that the elements are passed to the function\n",
    "print(my_concat('Hello', ' ', 'world'))\n",
    "\n",
    "# While this scrambled the concat by passing each argument with the named refference\n",
    "print(my_concat(a = 'Hello', c = '-', b = 'world'))\n"
   ]
  },
  {
   "cell_type": "code",
   "execution_count": null,
   "metadata": {},
   "outputs": [],
   "source": [
    "# this is a function based on named arguments only\n",
    "def my_concat(a = 1, b = 2, c = 3):\n",
    "    return(a + b + c)\n",
    "\n",
    "# This executes the concat on the order that the elements are passed to the function\n",
    "print(my_concat('Hello', ' ', 'world'))\n",
    "\n",
    "# While this scrambled the concat by passing each argument with the named refference\n",
    "print(my_concat(a = 'Hello', c = ' ', b = 'world'))\n",
    "\n",
    "# And notice that now the function can even be called without any arguments\n",
    "print(my_concat())"
   ]
  },
  {
   "cell_type": "code",
   "execution_count": null,
   "metadata": {},
   "outputs": [],
   "source": [
    "# this is a function based on both positional and named arguments. \n",
    "def my_concat(a, b, c = 'world', d = '!'):\n",
    "    return(a + b + c + d)\n",
    "\n",
    "# This executes the concat on the order that the elements are passed to the function\n",
    "print(my_concat('Hello', ' ', 'world'))\n",
    "\n",
    "# While this scrambled the concat by passing each argument with the named refference\n",
    "print(my_concat(a = 'Hello', c = ' ', b = 'world'))\n",
    "\n",
    "# notice that the positional arguments must be passed while the named elements can be omitted\n",
    "print(my_concat(b = 'Hello', a = '_'))\n",
    "\n",
    "# the order does not really matter as long as everything is named\n",
    "print(my_concat(d = '*', c = 'there', b = 'Hello', a = '_'))\n",
    "\n",
    "# this fails\n",
    "# print(my_concat(d = '*', c = 'there', 'Hello', '_'))\n",
    "\n",
    "# and so will this\n",
    "# def my_concat(c = 'world', d = '!', a, b):\n",
    "    # return(a + b + c + d)"
   ]
  },
  {
   "cell_type": "markdown",
   "metadata": {},
   "source": [
    "## 2. \\*args and \\*\\*kwargs\n",
    "As seen above, the * and ** are used to tell python that we are interested in pointing to the contents of an iterable/map variable rather than the variable itself. So we can consolidate both positional and named arguments of a function in a single name by calling the corresponding operator: * for positional arguments and ** for named arguments.<br>\n",
    "Let's change the above functions to allow n arguments without the need to define each one manually."
   ]
  },
  {
   "cell_type": "code",
   "execution_count": 4,
   "metadata": {},
   "outputs": [
    {
     "name": "stdout",
     "output_type": "stream",
     "text": [
      "Look at the contents of args  ('Hello', ' ', 'world')\n",
      "Hello world\n",
      "Look at the contents of args  ('Hello', ' ', 'world', '!')\n",
      "Hello world!\n",
      "Look at the contents of args  ('Hello', ' ', 'world', '!', '!!!!')\n",
      "Hello world!!!!!\n"
     ]
    }
   ],
   "source": [
    "# this is a function based on positional arguments only\n",
    "def my_concat(*args):\n",
    "    tmp = ''\n",
    "    print('Look at the contents of args ', args)\n",
    "    for x in args:\n",
    "        tmp += x\n",
    "    return(tmp)\n",
    "\n",
    "# This executes the concat on the order that the elements are passed to the function\n",
    "print(my_concat('Hello', ' ', 'world'))\n",
    "print(my_concat('Hello', ' ', 'world', '!'))\n",
    "print(my_concat('Hello', ' ', 'world', '!', '!!!!'))\n",
    "\n",
    "# This will no longer work though, because the arguments are no longer refferenced by a name\n",
    "# print(my_concat(a = 'Hello', c = ' ', b = 'world'))"
   ]
  },
  {
   "cell_type": "code",
   "execution_count": 5,
   "metadata": {},
   "outputs": [
    {
     "name": "stdout",
     "output_type": "stream",
     "text": [
      "Look at the contents of kwargs  {'a': 'Hello', 'b': ' ', 'c': 'world'}\n",
      "Hello world\n",
      "Look at the contents of kwargs  {'a': 'Hello', 'b': ' ', 'c': 'world', 'd': '!'}\n",
      "Hello world!\n",
      "Look at the contents of kwargs  {'a': 'Hello', 'b': ' ', 'c': 'world', 'd': '!', 'e': '!!!!'}\n",
      "Hello world!!!!!\n"
     ]
    }
   ],
   "source": [
    "# this is a function based on named arguments only\n",
    "def my_concat(**kwargs):\n",
    "    tmp = ''\n",
    "    print('Look at the contents of kwargs ', kwargs)\n",
    "    for x in kwargs.values():\n",
    "        tmp += x\n",
    "    return(tmp)\n",
    "\n",
    "# This executes the concat on the order that the elements are passed to the function\n",
    "print(my_concat(a = 'Hello', b = ' ', c = 'world'))\n",
    "print(my_concat(a = 'Hello', b =' ', c = 'world', d = '!'))\n",
    "print(my_concat(a = 'Hello', b = ' ', c = 'world', d = '!', e = '!!!!'))\n",
    "\n",
    "# This will no longer work though, because the arguments are no longer refferenced by a name\n",
    "# print(my_concat('Hello', ' ', 'world'))"
   ]
  },
  {
   "cell_type": "markdown",
   "metadata": {},
   "source": [
    "#### Sidenote"
   ]
  },
  {
   "cell_type": "code",
   "execution_count": 6,
   "metadata": {},
   "outputs": [
    {
     "data": {
      "text/plain": [
       "{'a': 1, 'b': 2, 'c': 3, 'd': 4}"
      ]
     },
     "execution_count": 6,
     "metadata": {},
     "output_type": "execute_result"
    }
   ],
   "source": [
    "a = {'a': 1, 'b': 2}\n",
    "b = {'c': 3, 'd': 4}\n",
    "\n",
    "{**a, **b}"
   ]
  },
  {
   "cell_type": "markdown",
   "metadata": {},
   "source": [
    "#### Back to business"
   ]
  },
  {
   "cell_type": "code",
   "execution_count": 7,
   "metadata": {},
   "outputs": [
    {
     "name": "stdout",
     "output_type": "stream",
     "text": [
      "positional only: *Hello* *world\n",
      "named only:      **Hello** **world\n",
      "both:            *Hello* **world\n"
     ]
    }
   ],
   "source": [
    "# this is a function based on both named and positional arguments\n",
    "def my_concat(*args, **kwargs):\n",
    "    tmp = ''\n",
    "    for x in args:\n",
    "        tmp += '*' + x\n",
    "    for x in kwargs.values():\n",
    "        tmp += '**' + x\n",
    "    return(tmp)\n",
    "\n",
    "# This executes the concat on the order that the elements are passed to the function\n",
    "print('positional only:', my_concat('Hello', ' ', 'world'))\n",
    "print('named only:     ', my_concat(a = 'Hello', b =' ', c = 'world'))\n",
    "print('both:           ', my_concat('Hello', ' ', c = 'world'))"
   ]
  },
  {
   "cell_type": "code",
   "execution_count": 8,
   "metadata": {},
   "outputs": [
    {
     "name": "stdout",
     "output_type": "stream",
     "text": [
      "positional only:\n",
      " Hello world....\n",
      "named only would failed now because we need the start:\n",
      " ***....Hello world\n",
      "mix with a different spacer:\n",
      " @Hello ____world\n"
     ]
    }
   ],
   "source": [
    "# this is a function based on both named and positional arguments with and without the * and ** operators\n",
    "def my_concat(start, *args, spacer = '....', **kwargs):\n",
    "    tmp = start\n",
    "    for x in args:\n",
    "        tmp += x\n",
    "    tmp += spacer\n",
    "    for x in kwargs.values():\n",
    "        tmp += x\n",
    "    return(tmp)\n",
    "\n",
    "# This executes the concat on the order that the elements are passed to the function\n",
    "print('positional only:\\n', my_concat('Hello', ' ', 'world'))\n",
    "print('named only would failed now because we need the start:\\n', my_concat('***', a = 'Hello', b =' ', c = 'world'))\n",
    "print('mix with a different spacer:\\n', my_concat('@', 'Hello', ' ', spacer = '____', c = 'world'))"
   ]
  },
  {
   "cell_type": "markdown",
   "metadata": {},
   "source": [
    "## 3. Function Overloading\n",
    "Function overloading is used to pass different types of arguments to a function in order to handle different events given different variable types. For example, in c++:<br><br>\n",
    "    *void print(int i) {\\\n",
    "      cout << \" Here is int \" << i << endl;\\\n",
    "    }\\\n",
    "    void print(double  i) {\\\n",
    "      cout << \" Here is float \" << f << endl;\\\n",
    "    }\\\n",
    "    void print(char const *i) {\\\n",
    "      cout << \" Here is char* \" << c << endl;\\\n",
    "    }\n",
    " \n"
   ]
  },
  {
   "cell_type": "markdown",
   "metadata": {},
   "source": [
    "In Python, **all variables are objects which can be modified without the need of re-declaring them.**<br><br>\n",
    "\n",
    "Given that Python's variables can be anything at any time, it follows that, **technically**, funtions in Python cannot be overloaded in the traditional sense. But since a Python function can take any object at any time, all functions are already overloaded as long as the function's action is changed depending on the object type.\n",
    "<br><br>\n",
    "For example, here I have created a function switch that basically serves the same purpose as a function overload:"
   ]
  },
  {
   "cell_type": "code",
   "execution_count": 9,
   "metadata": {},
   "outputs": [],
   "source": [
    "def integer_sum(a, b):\n",
    "    '''\n",
    "    This is a mathematical sum that adds two numbers\n",
    "    '''\n",
    "    return('integer sum', a + b)\n",
    "\n",
    "def tuple_sum(a, b):\n",
    "    '''\n",
    "    This function creates a new tuple based on the elements of 2 tupples\n",
    "    '''\n",
    "    return('tuple sum', a + b)\n",
    "\n",
    "def dict_sum(a, b):\n",
    "    '''\n",
    "    This function creates a new dictionary based on the elements of 2 dictionaries\n",
    "    '''\n",
    "    # since we know how to use **, we can do\n",
    "    return('dictionary sum', {**a, **b})\n",
    "\n",
    "# switch function\n",
    "def sum_overload(a, b):\n",
    "    if isinstance(a, int) and isinstance(b, int):\n",
    "        sum_type, mysum = integer_sum(a, b)\n",
    "    elif isinstance(a, tuple) and isinstance(b, tuple):\n",
    "        sum_type, mysum = tuple_sum(a, b)\n",
    "    elif isinstance(a, dict) and isinstance(b, dict):\n",
    "        sum_type, mysum = dict_sum(a, b)\n",
    "    else:\n",
    "        sum_type = 'types not supported, the sum '\n",
    "        mysum = None\n",
    "    return(sum_type, mysum)"
   ]
  },
  {
   "cell_type": "markdown",
   "metadata": {},
   "source": [
    "Let's try with a few data types"
   ]
  },
  {
   "cell_type": "code",
   "execution_count": 10,
   "metadata": {},
   "outputs": [
    {
     "name": "stdout",
     "output_type": "stream",
     "text": [
      "The type of a is <class 'int'> and the type of b is <class 'int'>. Thus the integer sum is 10\n",
      "The type of a is <class 'tuple'> and the type of b is <class 'tuple'>. Thus the tuple sum is (1, 2, 3, 4, 5, 6)\n",
      "The type of a is <class 'dict'> and the type of b is <class 'dict'>. Thus the dictionary sum is {'1': 1, '2': 2, '3': 3, 4: 4, 5: 5, 6: 6}\n",
      "The type of a is <class 'dict'> and the type of b is <class 'int'>. Thus the types not supported, the sum  is None\n"
     ]
    }
   ],
   "source": [
    "a = 7\n",
    "b = 3\n",
    "print('The type of a is {} and the type of b is {}. Thus the {} is {}'.format(type(a), type(b), *sum_overload(a,b)))\n",
    "\n",
    "a = (1, 2, 3)\n",
    "b = (4, 5, 6)\n",
    "print('The type of a is {} and the type of b is {}. Thus the {} is {}'.format(type(a), type(b), *sum_overload(a,b)))\n",
    "\n",
    "a = {'1':1, '2':2, '3':3}\n",
    "b = {4:4, 5:5, 6:6}\n",
    "print('The type of a is {} and the type of b is {}. Thus the {} is {}'.format(type(a), type(b), *sum_overload(a,b)))\n",
    "\n",
    "a = {'1':1, '2':2, '3':3}\n",
    "b = 7\n",
    "print('The type of a is {} and the type of b is {}. Thus the {} is {}'.format(type(a), type(b), *sum_overload(a,b)))\n"
   ]
  },
  {
   "cell_type": "markdown",
   "metadata": {},
   "source": [
    "## 4. Decorators\n",
    "The best way to understand decorators is using them. So let's jump into the following example."
   ]
  },
  {
   "cell_type": "markdown",
   "metadata": {},
   "source": [
    "Say we have a function that adds two numbers and, before calling it, we want to make sure the variables are numeric. Granted, we could add this to the function and be done with this easy change, but do consider that maybe this is part of a bigger class of functions from an API or similar."
   ]
  },
  {
   "cell_type": "code",
   "execution_count": 11,
   "metadata": {},
   "outputs": [
    {
     "name": "stdout",
     "output_type": "stream",
     "text": [
      "3\n",
      "None\n"
     ]
    }
   ],
   "source": [
    "def mysum(a, b):\n",
    "    return(a+b)\n",
    "\n",
    "def check_numeric(a, b):\n",
    "    if isinstance(a, int or float) and isinstance(b, int or float):\n",
    "        return(mysum(a, b))\n",
    "    else:\n",
    "        return(None)\n",
    "\n",
    "print(check_numeric(1, 2))\n",
    "print(check_numeric(1, '4'))"
   ]
  },
  {
   "cell_type": "markdown",
   "metadata": {},
   "source": [
    "Now, Python provides a way to wrap the mysum function to call it directly instead of calling the intermediate check_numeric function. This is done using a decorator with the operator @function_name before the actual function declaration. <br><br>\n",
    "One **important** thing we have to consider is that, in Python, **even functions are also objects** and as such, they can be passed into a funtion as an object. Let's look at a simpler example with some print statements, with and without the use of a decorator."
   ]
  },
  {
   "cell_type": "code",
   "execution_count": 12,
   "metadata": {},
   "outputs": [
    {
     "data": {
      "text/plain": [
       "<function __main__.mysum(a, b)>"
      ]
     },
     "execution_count": 12,
     "metadata": {},
     "output_type": "execute_result"
    }
   ],
   "source": [
    "mysum"
   ]
  },
  {
   "cell_type": "code",
   "execution_count": 13,
   "metadata": {},
   "outputs": [
    {
     "name": "stdout",
     "output_type": "stream",
     "text": [
      "I am an outter function and I am about to call the inner function\n",
      "I am an inner function\n"
     ]
    }
   ],
   "source": [
    "# NO DECORATORS EXAMPLE\n",
    "\n",
    "# First define an inner function\n",
    "def inner_function():\n",
    "    print('I am an inner function')\n",
    "\n",
    "#now, let's define an outter function that executes a function passed as argument\n",
    "def outter_function(f):\n",
    "    print('I am an outter function and I am about to call the inner function')\n",
    "    f()\n",
    "\n",
    "# Finally, execute the outter function passing the inner function\n",
    "outter_function(inner_function)"
   ]
  },
  {
   "cell_type": "code",
   "execution_count": 14,
   "metadata": {},
   "outputs": [
    {
     "name": "stdout",
     "output_type": "stream",
     "text": [
      "Landed at the decorator @outter_function\n",
      "Landed at the inner wrapping function -wrapper\n",
      "I am the actual function I want to call\n"
     ]
    }
   ],
   "source": [
    "# USING A DECORATOR\n",
    "\n",
    "# First define the outter funtion, which will serve as the decorator. The outter_function is the actual decorator\n",
    "def outter_function(f):\n",
    "    print('Landed at the decorator @outter_function')\n",
    "    \n",
    "    # Only thing is, the outter wrapper, as the wrapper name suggests, needs to wrap the function call\n",
    "    def wrapper():\n",
    "        print('Landed at the inner wrapping function -wrapper')\n",
    "        f()\n",
    "    return(wrapper)\n",
    "\n",
    "# Now, let's decorate the inner function with the outter function\n",
    "@outter_function\n",
    "def actual_function():\n",
    "    print('I am the actual function I want to call')\n",
    "\n",
    "# and now, we actually call the actual function\n",
    "actual_function()"
   ]
  },
  {
   "cell_type": "code",
   "execution_count": 15,
   "metadata": {},
   "outputs": [
    {
     "name": "stdout",
     "output_type": "stream",
     "text": [
      "Landed at the decorator @outter_function\n",
      "Landed at the inner wrapping function -wrapper with  ('Hey',) {}\n",
      "I am the actual function I want to call  Hey 1\n",
      "Landed at the inner wrapping function -wrapper with  ('Hey', 'world') {}\n",
      "I am the actual function I want to call  Hey world\n",
      "Landed at the inner wrapping function -wrapper with  ('Hey',) {'b': 'world'}\n",
      "I am the actual function I want to call  Hey world\n"
     ]
    }
   ],
   "source": [
    "# USING A DECORATOR WITH ARGUMENTS\n",
    "\n",
    "# First define the outter funtion, which will serve as the decorator. The outter_function is the actual decorator\n",
    "def outter_function(f):\n",
    "    print('Landed at the decorator @outter_function')\n",
    "    \n",
    "    # Only thing is, the outter wrapper, as the wrapper name suggests, needs to wrap the function call\n",
    "    def wrapper(*args, **kwargs):\n",
    "        print('Landed at the inner wrapping function -wrapper with ', args, kwargs)\n",
    "        # do something with the args\n",
    "        f(*args, **kwargs)\n",
    "    return(wrapper)\n",
    "\n",
    "# Now, let's decorate the inner function with the outter function\n",
    "@outter_function\n",
    "def actual_function(a, b = 1):\n",
    "    print('I am the actual function I want to call ', a, b)\n",
    "\n",
    "# and now, we actually call the inner function\n",
    "actual_function('Hey')\n",
    "actual_function('Hey', 'world')\n",
    "actual_function('Hey', b = 'world')"
   ]
  },
  {
   "cell_type": "markdown",
   "metadata": {},
   "source": [
    "So let's look at the prior example but now making *check_numeric*'s argument a function. "
   ]
  },
  {
   "cell_type": "code",
   "execution_count": 16,
   "metadata": {},
   "outputs": [
    {
     "name": "stdout",
     "output_type": "stream",
     "text": [
      "1 2\n",
      "3\n",
      "None\n"
     ]
    }
   ],
   "source": [
    "#the decorator\n",
    "def check_numeric(f):\n",
    "    def wrapper(*args):\n",
    "        if all([isinstance(check, int or float) for check in args]):\n",
    "            return(f(*args))\n",
    "        else:\n",
    "            return(None)\n",
    "    return(wrapper)\n",
    "\n",
    "# the decorated function\n",
    "@check_numeric\n",
    "def mysum(a, b):\n",
    "    print(a, b)\n",
    "    return(a + b)\n",
    "\n",
    "# the function call\n",
    "print(mysum(1, 2))\n",
    "print(mysum(1, '4'))"
   ]
  },
  {
   "cell_type": "markdown",
   "metadata": {},
   "source": [
    "## 4. Memoization\n",
    "Memoization means, roughly, storing a function to memory. This is used when we need to have a process/calculation performed and we do not want it to be repeated. Instead, we can store the entire function call along with the results into memory so that, then next time it is called with the same args, the function is not executed.<br><br>\n",
    "\n",
    "The idea behind memoization if to record the entire function to some type of memory collection. In Dash we will do this with some type of cache, but here we can just create a dictionary such that:<br>\n",
    "**m = {args: executed function}**<br>\n",
    "We can then use this memory dictionary to check if the function has already been called or not. \n",
    "<br><br>\n",
    "As you can see, this is the perfect place to use a decorator. We can decorate a time-expensive function in a memoization wrapper and check if the function exists in memory.\n",
    "<br><br>\n",
    "*NOTE: This explains the memoization methodology. I am not using a package to implement it but rather coding it up altogether*"
   ]
  },
  {
   "cell_type": "code",
   "execution_count": 17,
   "metadata": {},
   "outputs": [],
   "source": [
    "import time\n",
    "\n",
    "# The memoization method\n",
    "m = {}\n",
    "def memoize(f):\n",
    "    def wrapper(*args):             #this could be done with *args and **kwargs to handle anything always\n",
    "        global m\n",
    "        print(args)\n",
    "        print(m)\n",
    "                \n",
    "        # check if the arguments have been used before, if not, store them to the dictionary \n",
    "        if args not in m.keys():\n",
    "            # this stores the results of the function in the args key\n",
    "            m[args] = f(*args)\n",
    "            print('the results are ', m[args])\n",
    "        # return the results\n",
    "        return(m[args])\n",
    "    \n",
    "    # always return the inner function\n",
    "    return(wrapper)\n",
    "\n",
    "@memoize\n",
    "def mysleeper(n = 10):\n",
    "    time.sleep(n)\n",
    "    print('I just took a {}-second nap'.format(n))\n",
    "    return(n)"
   ]
  },
  {
   "cell_type": "code",
   "execution_count": 18,
   "metadata": {},
   "outputs": [
    {
     "name": "stdout",
     "output_type": "stream",
     "text": [
      "(10,)\n",
      "{}\n",
      "I just took a 10-second nap\n",
      "the results are  10\n",
      "done in 0:00:10.003727 seconds\n",
      "\n",
      "Let's try again\n",
      "(10,)\n",
      "{(10,): 10}\n",
      "now done in 0:00:00.000326 seconds\n",
      "\n",
      "\n",
      "But this will take 5\n",
      "(5,)\n",
      "{(10,): 10}\n",
      "I just took a 5-second nap\n",
      "the results are  5\n",
      "And now done in 0:00:05.003438 seconds\n"
     ]
    }
   ],
   "source": [
    "t1 = dt.now()\n",
    "mysleeper(10)\n",
    "print('done in {} seconds'.format(dt.now() - t1))\n",
    "\n",
    "t1 = dt.now()\n",
    "print(\"\\nLet's try again\")\n",
    "mysleeper(10)\n",
    "print('now done in {} seconds'.format(dt.now() - t1))\n",
    "\n",
    "t1 = dt.now()\n",
    "print('\\n\\nBut this will take 5')\n",
    "mysleeper(5)\n",
    "print('And now done in {} seconds'.format(dt.now() - t1))"
   ]
  },
  {
   "cell_type": "markdown",
   "metadata": {},
   "source": [
    "## 5. Threading\n",
    "Here, I just want to make a point about Python's threading.<br>\n",
    "Python does not have true multi-processing/multi-threading capabilitites. There is such thing as the threading module, but this is only good if used within an I/O context.<br><br>\n",
    "\n",
    "In financial engineering, we ecounter time-expensive functions due to calculations and not due to I/O requirements. As such, computation-intense analytical apps built with Python/dash will be quite slow. <br>\n",
    "Here's an example of threading.\n",
    "<br><br>\n",
    "*NOTE: I find that the only way to maybe reduce the calculation time using threading is via concurrent.futures module. But this is highly unreliable.*"
   ]
  },
  {
   "cell_type": "code",
   "execution_count": 33,
   "metadata": {},
   "outputs": [
    {
     "name": "stdout",
     "output_type": "stream",
     "text": [
      "\n",
      "This is iteration 1\n",
      "done in 0:00:01.784276\n",
      "<Thread(Thread-31, stopped 13051600896)>\n"
     ]
    }
   ],
   "source": [
    "from threading import Thread\n",
    "import numpy as np\n",
    "\n",
    "\n",
    "# I am just putting this funtion to sleep\n",
    "def comp_intense_function(itr):\n",
    "    # this is just some matrix multiplication that takes about 2 seconds\n",
    "    x = np.random.rand(12000, 12000)\n",
    "    x * x.T\n",
    "    print('\\nThis is iteration {}'.format(itr))\n",
    "    \n",
    "t1 = dt.now()\n",
    "# Thread takes named arguments target = function name and args = TUPLE of arguments\n",
    "th = Thread(target = comp_intense_function, args = (1,))\n",
    "\n",
    "# this needs to be initialized\n",
    "th.start()\n",
    "\n",
    "# this makes sure the thread ended\n",
    "th.join()\n",
    "print('done in {}'.format(dt.now() - t1))\n",
    "\n",
    "print(th)\n"
   ]
  },
  {
   "cell_type": "markdown",
   "metadata": {},
   "source": [
    "The above function takes O(N) to run (i.e. n seconds). <br>\n",
    "In a true multi-threading environment, we should be able to keep the calculation time at about O(N) even if we are runing comp_intense_function m times. The idea being that all threads would be making the calculation at the same time. But in Python this cannot be done. **Instead, in Python, running comp_intense_function m times will take n x m seconds**, as shown here:"
   ]
  },
  {
   "cell_type": "code",
   "execution_count": 31,
   "metadata": {},
   "outputs": [
    {
     "name": "stdout",
     "output_type": "stream",
     "text": [
      "\n",
      "This is iteration 0\n",
      "\n",
      "This is iteration 1\n",
      "\n",
      "This is iteration 2\n",
      "\n",
      "This is iteration 3\n",
      "\n",
      "This is iteration 4\n",
      "\n",
      "done in 0:00:06.234464\n"
     ]
    }
   ],
   "source": [
    "# let's call this 5 times and see how long it takes\n",
    "\n",
    "t1 = dt.now()\n",
    "ths = []\n",
    "for x in range(5):\n",
    "    ths.append(Thread(target = comp_intense_function, args = (x,)))\n",
    "    ths[-1].start()\n",
    "\n",
    "for th in ths:\n",
    "    th.join()\n",
    "print('\\ndone in {}'.format(dt.now() - t1))"
   ]
  },
  {
   "cell_type": "code",
   "execution_count": 34,
   "metadata": {},
   "outputs": [
    {
     "name": "stdout",
     "output_type": "stream",
     "text": [
      "done with 0 done with 1 done with 2 done with 3 done with 4\n",
      "\n",
      "done in 0:00:09.541645\n"
     ]
    }
   ],
   "source": [
    "import concurrent\n",
    "from mp import comp_intense_function_ext\n",
    "\n",
    "t1 = dt.now()\n",
    "with concurrent.futures.ProcessPoolExecutor(max_workers = 5) as executor:\n",
    "    results = executor.map(comp_intense_function_ext, [x for x in range(5)], )\n",
    "\n",
    "print(*results)\n",
    "print('\\ndone in {}'.format(dt.now() - t1))  "
   ]
  },
  {
   "cell_type": "code",
   "execution_count": 37,
   "metadata": {},
   "outputs": [
    {
     "name": "stdout",
     "output_type": "stream",
     "text": [
      "done with 0 done with 1 done with 2 done with 3 done with 4\n",
      "\n",
      "done in 0:00:08.163904\n"
     ]
    }
   ],
   "source": [
    "import concurrent\n",
    "from mp import comp_intense_function_ext\n",
    "\n",
    "t1 = dt.now()\n",
    "with concurrent.futures.ProcessPoolExecutor(max_workers = 5) as executor:\n",
    "    results = executor.map(comp_intense_function_ext, [x for x in range(5)], )\n",
    "\n",
    "print(*results)\n",
    "print('\\ndone in {}'.format(dt.now() - t1))  "
   ]
  },
  {
   "cell_type": "code",
   "execution_count": null,
   "metadata": {},
   "outputs": [],
   "source": []
  },
  {
   "cell_type": "code",
   "execution_count": null,
   "metadata": {},
   "outputs": [],
   "source": []
  }
 ],
 "metadata": {
  "celltoolbar": "Raw Cell Format",
  "colab": {
   "collapsed_sections": [],
   "name": "Homework III.ipynb",
   "provenance": []
  },
  "kernelspec": {
   "display_name": "Python 3 (ipykernel)",
   "language": "python",
   "name": "python3"
  },
  "language_info": {
   "codemirror_mode": {
    "name": "ipython",
    "version": 3
   },
   "file_extension": ".py",
   "mimetype": "text/x-python",
   "name": "python",
   "nbconvert_exporter": "python",
   "pygments_lexer": "ipython3",
   "version": "3.8.8"
  }
 },
 "nbformat": 4,
 "nbformat_minor": 1
}
