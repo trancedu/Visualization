{
 "cells": [
  {
   "cell_type": "code",
   "execution_count": 30,
   "metadata": {},
   "outputs": [],
   "source": [
    "import requests\n",
    "from PIL import Image\n",
    "from io import BytesIO\n",
    "import cv2\n",
    "import numpy as np"
   ]
  },
  {
   "cell_type": "code",
   "execution_count": 42,
   "metadata": {},
   "outputs": [],
   "source": [
    "def download_img(number):\n",
    "    url = 'http://q1.qlogo.cn/g?b=qq&nk=' + str(number) + '&s=100'\n",
    "    r = requests.get(url)\n",
    "    image = np.asarray(bytearray(r.content))\n",
    "    return cv2.imdecode(image, cv2.IMREAD_COLOR)"
   ]
  },
  {
   "cell_type": "code",
   "execution_count": 18,
   "metadata": {},
   "outputs": [],
   "source": [
    "number = 2946802334\n",
    "url = 'http://q1.qlogo.cn/g?b=qq&nk=' + str(number) + '&s=100'\n",
    "r = requests.get(url)\n",
    "image = np.asarray(bytearray(r.content))\n",
    "img = cv2.imdecode(image, cv2.IMREAD_COLOR)\n",
    "\n"
   ]
  },
  {
   "cell_type": "code",
   "execution_count": 50,
   "metadata": {},
   "outputs": [],
   "source": [
    "def aHash(img):   \n",
    "    try: \n",
    "        img = cv2.resize(img, (8, 8))    \n",
    "    except:\n",
    "        return \"0\"\n",
    "    gray = cv2.cvtColor(img, cv2.COLOR_BGR2GRAY)    \n",
    "    s = 0    \n",
    "    hash_str = ''    \n",
    "    for i in range(8):        \n",
    "        for j in range(8):            \n",
    "            s = s + gray[i, j]    \n",
    "    avg = s / 64    \n",
    "    for i in range(8):        \n",
    "        for j in range(8):            \n",
    "            if gray[i, j] > avg:                \n",
    "                hash_str = hash_str + '1'            \n",
    "            else:                \n",
    "                hash_str = hash_str + '0'    \n",
    "    return hash_str# Hash值对比def cmpHash(hash1, hash2):    n = 0    if len(hash1) != len(hash2):        return -1    for i in range(len(hash1)):        if hash1[i] != hash2[i]:            n = n + 1    return n"
   ]
  },
  {
   "cell_type": "code",
   "execution_count": 51,
   "metadata": {},
   "outputs": [],
   "source": [
    "def cmpHash(hash1, hash2):\n",
    "    n = 0    \n",
    "    if len(hash1) != len(hash2):        \n",
    "        return -1    \n",
    "    for i in range(len(hash1)):        \n",
    "        if hash1[i] != hash2[i]:            \n",
    "            n = n + 1    \n",
    "    return n"
   ]
  },
  {
   "cell_type": "code",
   "execution_count": 53,
   "metadata": {},
   "outputs": [
    {
     "name": "stdout",
     "output_type": "stream",
     "text": [
      "[2946802334]\n"
     ]
    }
   ],
   "source": [
    "results = []\n",
    "img1 = download_img(2946802334)\n",
    "hash1 = aHash(img1)\n",
    "\n",
    "for number in range(2946802330, 2946802340):\n",
    "    img2 = download_img(number)\n",
    "    hash2 = aHash(img2)\n",
    "    if 0 <= cmpHash(hash1, hash2) < 5:\n",
    "        results.append(number)\n",
    "\n",
    "print(results)"
   ]
  },
  {
   "cell_type": "code",
   "execution_count": 47,
   "metadata": {},
   "outputs": [
    {
     "data": {
      "text/plain": [
       "23"
      ]
     },
     "execution_count": 47,
     "metadata": {},
     "output_type": "execute_result"
    }
   ],
   "source": []
  },
  {
   "cell_type": "code",
   "execution_count": 54,
   "metadata": {},
   "outputs": [
    {
     "name": "stdout",
     "output_type": "stream",
     "text": [
      "553 ms ± 61.8 ms per loop (mean ± std. dev. of 7 runs, 3 loops each)\n"
     ]
    }
   ],
   "source": [
    "%%timeit -n 3\n",
    "download_img(2946802334)"
   ]
  },
  {
   "cell_type": "code",
   "execution_count": null,
   "metadata": {},
   "outputs": [],
   "source": []
  }
 ],
 "metadata": {
  "interpreter": {
   "hash": "5700407823d8fff39750214d9b0f6170cb72c6be1217f1beed20a85e740218ab"
  },
  "kernelspec": {
   "display_name": "Python 3.8.8 ('anaconda3')",
   "language": "python",
   "name": "python3"
  },
  "language_info": {
   "codemirror_mode": {
    "name": "ipython",
    "version": 3
   },
   "file_extension": ".py",
   "mimetype": "text/x-python",
   "name": "python",
   "nbconvert_exporter": "python",
   "pygments_lexer": "ipython3",
   "version": "3.8.8"
  },
  "orig_nbformat": 4
 },
 "nbformat": 4,
 "nbformat_minor": 2
}
