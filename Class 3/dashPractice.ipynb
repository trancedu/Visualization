{
 "cells": [
  {
   "cell_type": "code",
   "execution_count": 1,
   "metadata": {},
   "outputs": [],
   "source": [
    "import dash \n",
    "from dash import html, dcc\n",
    "\n",
    "from jupyter_dash import JupyterDash"
   ]
  },
  {
   "cell_type": "code",
   "execution_count": 27,
   "metadata": {},
   "outputs": [
    {
     "name": "stdout",
     "output_type": "stream",
     "text": [
      "H1(children='This is a Dash Web App', style={'border-style': 'solid'})\n"
     ]
    },
    {
     "data": {
      "text/html": [
       "\n",
       "        <iframe\n",
       "            width=\"100%\"\n",
       "            height=\"650\"\n",
       "            src=\"http://127.0.0.1:8051/\"\n",
       "            frameborder=\"0\"\n",
       "            allowfullscreen\n",
       "            \n",
       "        ></iframe>\n",
       "        "
      ],
      "text/plain": [
       "<IPython.lib.display.IFrame at 0x7fddb0480940>"
      ]
     },
     "metadata": {},
     "output_type": "display_data"
    }
   ],
   "source": [
    "app = JupyterDash(__name__)\n",
    "border = {\"border-style\": \"solid\", \"border-width\": \"thin\"}\n",
    "app.layout = html.Div(\n",
    "    [\n",
    "        html.H1(\"This is a Dash Web App\", style = {'border-stle': 'solid'}),\n",
    "        html.Div(\n",
    "            [\n",
    "                html.Div(\"I am an html div elemnt. In dash I am an html.Div element\"),\n",
    "                html.Br(),\n",
    "                html.Div(\"I am a second Div element\"),\n",
    "                dcc.Link(\"Here is the link for a Div\", href = \"http://google.com\"),\n",
    "                html.Br(),\n",
    "                html.Div(\"And after a break, I am a centered Div\", style = {'text-align': 'center'}),\n",
    "            ], style = {\n",
    "                \"height\": \"20em\",\n",
    "                # \"margin\": \"4em 2em 3em 4em\",\n",
    "            }\n",
    "            \n",
    "        ),\n",
    "        html.H6(\"H6 Tag\"),\n",
    "        html.P([\"I am a paragraph. &nbsp;\" * 2], style = border),\n",
    "        html.P([\"I am a paragraph. &nbsp;\" * 2], style = border),\n",
    "        html.Br(),\n",
    "        html.Ul(\n",
    "            [\n",
    "                html.Li(\"I am a list element\"),\n",
    "                html.Li(\"I am a list element\"),\n",
    "            ]\n",
    "        ),\n",
    "        html.Textarea(placeholder = \"I am a text area with a placeholder\"),\n",
    "        html.Label(\"Dcc's are wrappers for regular html\"),\n",
    "        dcc.Dropdown(\n",
    "            options=[\n",
    "                {\"label\": \"NYU\", \"value\": 0}\n",
    "            ],\n",
    "            placeholder = \"Select something...\"\n",
    "        ),\n",
    "\n",
    "        dcc.Input( \n",
    "            type=\"text\",\n",
    "            placeholder=\"I am a text input\"\n",
    "        ),\n",
    "\n",
    "        dcc.Input( \n",
    "            type=\"number\",\n",
    "            placeholder=\"I am also text input but I only take numbers\",\n",
    "        ),\n",
    "\n",
    "        dcc.RadioItems( \n",
    "            options=[ \n",
    "                {\"label\": \"NYU\", \"value\": 0},\n",
    "                {\"label\": \"Columbia\", \"value\":1}\n",
    "            ]\n",
    "        ),\n",
    "\n",
    "        dcc.Markdown(\"I am first\\n # I am second\")\n",
    "        \n",
    "\n",
    "\n",
    "    ]\n",
    ")\n",
    "\n",
    "print(html.H1(\"This is a Dash Web App\", style= {'border-style': 'solid'}))\n",
    "app.run_server(\n",
    "    mode = \"inline\",\n",
    "    port = 8051\n",
    ")"
   ]
  },
  {
   "cell_type": "code",
   "execution_count": null,
   "metadata": {},
   "outputs": [],
   "source": []
  }
 ],
 "metadata": {
  "interpreter": {
   "hash": "5700407823d8fff39750214d9b0f6170cb72c6be1217f1beed20a85e740218ab"
  },
  "kernelspec": {
   "display_name": "Python 3.8.8 ('anaconda3')",
   "language": "python",
   "name": "python3"
  },
  "language_info": {
   "codemirror_mode": {
    "name": "ipython",
    "version": 3
   },
   "file_extension": ".py",
   "mimetype": "text/x-python",
   "name": "python",
   "nbconvert_exporter": "python",
   "pygments_lexer": "ipython3",
   "version": "3.8.8"
  },
  "orig_nbformat": 4
 },
 "nbformat": 4,
 "nbformat_minor": 2
}
