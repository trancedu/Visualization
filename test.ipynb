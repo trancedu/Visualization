{
 "cells": [
  {
   "cell_type": "code",
   "execution_count": 2,
   "id": "ba6eb5ee",
   "metadata": {
    "scrolled": true
   },
   "outputs": [
    {
     "name": "stdout",
     "output_type": "stream",
     "text": [
      "1 2 3\n"
     ]
    }
   ],
   "source": [
    "a = [1, 2, 3]\n",
    "print(*a)"
   ]
  },
  {
   "cell_type": "code",
   "execution_count": 3,
   "id": "913ecaff",
   "metadata": {},
   "outputs": [
    {
     "name": "stdout",
     "output_type": "stream",
     "text": [
      "abc bcd\n"
     ]
    }
   ],
   "source": [
    "b = {'abc':'a', 'bcd':'b'}\n",
    "print(*b)"
   ]
  },
  {
   "cell_type": "code",
   "execution_count": 4,
   "id": "93a7b5b4",
   "metadata": {},
   "outputs": [],
   "source": [
    "def my_concat(*args, **kwargs):\n",
    "    print(\"args\", args)\n",
    "    print(\"kwargs\", kwargs)\n",
    "    return ' '.join(list(args) + list(kwargs.values()))"
   ]
  },
  {
   "cell_type": "code",
   "execution_count": 5,
   "id": "864b5fd9",
   "metadata": {},
   "outputs": [
    {
     "name": "stdout",
     "output_type": "stream",
     "text": [
      "args ('g', 'o', 'd')\n",
      "kwargs {'a': 'good', 'b': 'bad'}\n"
     ]
    },
    {
     "data": {
      "text/plain": [
       "'g o d good bad'"
      ]
     },
     "execution_count": 5,
     "metadata": {},
     "output_type": "execute_result"
    }
   ],
   "source": [
    "my_concat('g', 'o', 'd', a='good', b='bad')"
   ]
  },
  {
   "cell_type": "code",
   "execution_count": 6,
   "id": "704352b7",
   "metadata": {},
   "outputs": [
    {
     "data": {
      "text/plain": [
       "{'a': 1, 'b': 2}"
      ]
     },
     "execution_count": 6,
     "metadata": {},
     "output_type": "execute_result"
    }
   ],
   "source": [
    "a = {'a': 1, 'b': 2}\n",
    "b = {'a': 3, 'c': 4}\n",
    "{**a}"
   ]
  },
  {
   "cell_type": "code",
   "execution_count": 7,
   "id": "ea41e245",
   "metadata": {},
   "outputs": [
    {
     "data": {
      "text/plain": [
       "{'a': 3, 'b': 2, 'c': 4}"
      ]
     },
     "execution_count": 7,
     "metadata": {},
     "output_type": "execute_result"
    }
   ],
   "source": [
    "{**a, **b}"
   ]
  },
  {
   "cell_type": "code",
   "execution_count": 8,
   "id": "ea1186c3",
   "metadata": {},
   "outputs": [
    {
     "data": {
      "text/plain": [
       "(2, 3, 4, 5)"
      ]
     },
     "execution_count": 8,
     "metadata": {},
     "output_type": "execute_result"
    }
   ],
   "source": [
    "(2,3) + (4, 5)"
   ]
  },
  {
   "cell_type": "code",
   "execution_count": 9,
   "id": "e1ff43b6",
   "metadata": {},
   "outputs": [],
   "source": [
    "def outter_f(f):\n",
    "    print(\"landed outer\")\n",
    "    def wrap():\n",
    "        print(\"wrap\")\n",
    "        f()\n",
    "    return wrap"
   ]
  },
  {
   "cell_type": "code",
   "execution_count": 10,
   "id": "182ac21a",
   "metadata": {},
   "outputs": [
    {
     "name": "stdout",
     "output_type": "stream",
     "text": [
      "landed outer\n"
     ]
    }
   ],
   "source": [
    "@outter_f\n",
    "def actual_f():\n",
    "    print('actural')"
   ]
  },
  {
   "cell_type": "code",
   "execution_count": 11,
   "id": "81f72166",
   "metadata": {},
   "outputs": [
    {
     "name": "stdout",
     "output_type": "stream",
     "text": [
      "wrap\n",
      "actural\n"
     ]
    }
   ],
   "source": [
    "actual_f()"
   ]
  },
  {
   "cell_type": "code",
   "execution_count": 13,
   "id": "f5b6c52d",
   "metadata": {},
   "outputs": [
    {
     "name": "stdout",
     "output_type": "stream",
     "text": [
      "landed outer\n",
      "wrap\n",
      "wrap\n",
      "actural\n"
     ]
    }
   ],
   "source": [
    "outter_f(actual_f)()"
   ]
  },
  {
   "cell_type": "markdown",
   "id": "a9208a40",
   "metadata": {},
   "source": [
    "### Memoization"
   ]
  },
  {
   "cell_type": "code",
   "execution_count": 14,
   "id": "46349c90",
   "metadata": {},
   "outputs": [],
   "source": [
    "import time\n",
    "m = {}\n",
    "def memoize(f):\n",
    "    def wrapper(*args):\n",
    "        print(\"argument received\", args)\n",
    "        print(\"m\", m)\n",
    "        \n",
    "        if args not in m:\n",
    "            m[args] = f(*args)\n",
    "            print('the results are', m[args])\n",
    "        return m[args]\n",
    "    return wrapper\n"
   ]
  },
  {
   "cell_type": "code",
   "execution_count": 15,
   "id": "6c1c202b",
   "metadata": {},
   "outputs": [],
   "source": [
    "@memoize\n",
    "def mysleep(n = 0.1):\n",
    "    time.sleep(n)\n",
    "    print(\"I took a {} second nap\".format(n))\n",
    "    return n"
   ]
  },
  {
   "cell_type": "code",
   "execution_count": 18,
   "id": "dac00d92",
   "metadata": {},
   "outputs": [
    {
     "name": "stdout",
     "output_type": "stream",
     "text": [
      "argument received (0.13,)\n",
      "m {(0.13,): 0.13}\n",
      "argument received (0.12,)\n",
      "m {(0.13,): 0.13}\n",
      "I took a 0.12 second nap\n",
      "the results are 0.12\n",
      "argument received (0.1,)\n",
      "m {(0.13,): 0.13, (0.12,): 0.12}\n",
      "I took a 0.1 second nap\n",
      "the results are 0.1\n"
     ]
    },
    {
     "data": {
      "text/plain": [
       "0.1"
      ]
     },
     "execution_count": 18,
     "metadata": {},
     "output_type": "execute_result"
    }
   ],
   "source": [
    "mysleep(0.13)\n",
    "mysleep(0.12)\n",
    "mysleep(0.1)"
   ]
  },
  {
   "cell_type": "code",
   "execution_count": 19,
   "id": "54b6fac9",
   "metadata": {},
   "outputs": [
    {
     "data": {
      "text/plain": [
       "{(0.13,): 0.13, (0.12,): 0.12, (0.1,): 0.1}"
      ]
     },
     "execution_count": 19,
     "metadata": {},
     "output_type": "execute_result"
    }
   ],
   "source": []
  }
 ],
 "metadata": {
  "interpreter": {
   "hash": "5700407823d8fff39750214d9b0f6170cb72c6be1217f1beed20a85e740218ab"
  },
  "kernelspec": {
   "display_name": "Python 3.8.8 64-bit ('anaconda3': conda)",
   "language": "python",
   "name": "python3"
  },
  "language_info": {
   "codemirror_mode": {
    "name": "ipython",
    "version": 3
   },
   "file_extension": ".py",
   "mimetype": "text/x-python",
   "name": "python",
   "nbconvert_exporter": "python",
   "pygments_lexer": "ipython3",
   "version": "3.8.8"
  }
 },
 "nbformat": 4,
 "nbformat_minor": 5
}
