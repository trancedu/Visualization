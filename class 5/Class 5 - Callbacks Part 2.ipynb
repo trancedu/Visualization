{
 "cells": [
  {
   "cell_type": "markdown",
   "metadata": {
    "colab_type": "text",
    "id": "F-TKxfYNZvMO"
   },
   "source": [
    "# <center>Class 5<br>Callbacks Part 2</center>\n",
    "\n",
    "## Opjectives\n",
    "In this class we will learn:\n",
    "<ul>\n",
    "    <li>How to add responsiveness to a dash app</li>\n",
    "    <li>Learn to use more advanced callbacks</li>\n",
    "    <li>Some of the problems with dash Input/Output system</li>\n",
    "</ul>"
   ]
  },
  {
   "cell_type": "markdown",
   "metadata": {},
   "source": [
    "*These are the main imports needed in any dash web app*<br>\n",
    "Let's start with the basic imports, any user-defined modules, and any data."
   ]
  },
  {
   "cell_type": "code",
   "execution_count": 1,
   "metadata": {},
   "outputs": [
    {
     "name": "stdout",
     "output_type": "stream",
     "text": [
      "   year        name         data\n",
      "0  2019  DP05_0001E  328239523.0\n",
      "1  2018  DP05_0001E  327167439.0\n",
      "2  2017  DP05_0001E  325719178.0\n",
      "3  2016  DP05_0001E  323127515.0\n",
      "4  2015  DP05_0001E  321418821.0\n",
      "           id   level_0      level_1           level_2  \\\n",
      "0  DP05_0001E  Estimate  SEX AND AGE  Total population   \n",
      "1  DP05_0002E  Estimate  SEX AND AGE  Total population   \n",
      "2  DP05_0003E  Estimate  SEX AND AGE  Total population   \n",
      "3  DP05_0004E  Estimate  SEX AND AGE  Total population   \n",
      "4  DP05_0005E  Estimate  SEX AND AGE  Total population   \n",
      "\n",
      "                             level_3 level_4 level_5  \n",
      "0                                NaN     NaN     NaN  \n",
      "1                               Male     NaN     NaN  \n",
      "2                             Female     NaN     NaN  \n",
      "3  Sex ratio (males per 100 females)     NaN     NaN  \n",
      "4                      Under 5 years     NaN     NaN  \n"
     ]
    }
   ],
   "source": [
    "import dash\n",
    "from dash import html, dcc\n",
    "import pandas as pd\n",
    "from dash import Input, Output, State\n",
    "import plotly.graph_objects as go\n",
    "\n",
    "# This is only needed to that we can run dash in a notebook\n",
    "from jupyter_dash import JupyterDash\n",
    "\n",
    "# get the data -> the data comes from the census population growth, there is a python companion program\n",
    "meta = pd.read_csv('data/metadata.csv')\n",
    "data = pd.read_csv('data/data.csv')\n",
    "\n",
    "print(data.head())\n",
    "print(meta.head())"
   ]
  },
  {
   "cell_type": "markdown",
   "metadata": {},
   "source": [
    "## Census Population App:\n",
    "This app will be able to generate multiple graphic types displaying information about US. population estimates.<br>\n",
    "The data has been downloaded from the us census page. <br>\n",
    "This is a very dynamic app used to process and show census data over the last decade. The variable names have been coded up in a multi-layer naming structure. This structure will be passed to 4 levels of dropdowns so that the user can choose what to plot and how to plot it."
   ]
  },
  {
   "cell_type": "code",
   "execution_count": 2,
   "metadata": {},
   "outputs": [],
   "source": [
    "# I want to create a function that returns a go Figure which can later be used to add traces to it\n",
    "def get_figure(fig_title, xtitle = None):\n",
    "    fig = go.Figure()\n",
    "    \n",
    "    fig.update_layout(\n",
    "        # this is a function taking multiple kwargs where complex args have to be passed as dictionaries\n",
    "        title = {\n",
    "            'text': fig_title,\n",
    "            'y': 0.95,\n",
    "            'x': 0.5,\n",
    "            'font': {'size': 22}\n",
    "        },\n",
    "        paper_bgcolor = 'white',\n",
    "        plot_bgcolor = 'white',\n",
    "        autosize = False,\n",
    "        height = 400,\n",
    "        xaxis = {\n",
    "            'title': xtitle,\n",
    "            'showline': True, \n",
    "            'linewidth': 1,\n",
    "            'linecolor': 'black'\n",
    "        },\n",
    "        yaxis = {\n",
    "            'showline': True, \n",
    "            'linewidth': 1,\n",
    "            'linecolor': 'black'\n",
    "        }\n",
    "    )\n",
    "    \n",
    "    return(fig)"
   ]
  },
  {
   "cell_type": "code",
   "execution_count": null,
   "metadata": {
    "scrolled": true
   },
   "outputs": [],
   "source": [
    "# This makes all possible level-based dropdown options from the meta file\n",
    "# this is limited to the first 20 just to make it usefull\n",
    "\n",
    "def get_options(lst):\n",
    "    return([{'label': l, 'value': l} for l in lst if len(l) < 20])\n",
    "\n",
    "def get_levels():\n",
    "    levels = {}\n",
    "    for col in meta.columns:\n",
    "        if col not in ['id', 'level_0']:\n",
    "            levels[col] = get_options(meta[col].dropna().drop_duplicates().to_list())\n",
    "    return(levels)\n",
    "\n",
    "get_levels()"
   ]
  },
  {
   "cell_type": "markdown",
   "metadata": {},
   "source": [
    "## 1. A simple app design\n",
    "Let's first design an app that has:\n",
    "<ul>\n",
    "    <li>One dropdown for each level on the naming for the data-series</li>\n",
    "    <li>A graph</li>\n",
    "</ul>"
   ]
  },
  {
   "cell_type": "code",
   "execution_count": 5,
   "metadata": {
    "scrolled": false
   },
   "outputs": [
    {
     "data": {
      "text/html": [
       "\n",
       "        <iframe\n",
       "            width=\"100%\"\n",
       "            height=\"650\"\n",
       "            src=\"http://127.0.0.1:8000/\"\n",
       "            frameborder=\"0\"\n",
       "            allowfullscreen\n",
       "            \n",
       "        ></iframe>\n",
       "        "
      ],
      "text/plain": [
       "<IPython.lib.display.IFrame at 0x7f9631ee43a0>"
      ]
     },
     "metadata": {},
     "output_type": "display_data"
    }
   ],
   "source": [
    "# First initialize the app\n",
    "app = JupyterDash(\n",
    "    __name__,\n",
    "    prevent_initial_callbacks = True\n",
    ")\n",
    "\n",
    "DROPDOWN_OPTIONS = get_levels()\n",
    "\n",
    "# define the initial state of the app -> app.layout is what the user sees from upon launching the app\n",
    "app.layout = html.Div(\n",
    "    [\n",
    "        html.H3('Sandbox for Dash Apps'),\n",
    "        html.H4('Part 1: A simple static app design'),\n",
    "       \n",
    "        # There are hidden options here\n",
    "        html.Hr(),\n",
    "        html.P('Please select the corresponding series to be plotted. The graph will automatically appear once the final available level has been reached.'),\n",
    "        html.Div(\n",
    "            \n",
    "            # let's create all the dropdowns as dynamically as possible\n",
    "            [\n",
    "                dcc.Dropdown(\n",
    "                    options = opt,\n",
    "                    placeholder = 'Select level {}'.format(name.replace('_', ' ')),\n",
    "                    disabled = False,\n",
    "                    searchable = True,\n",
    "                    multi = False,\n",
    "                    id = '{}_dd'.format(name),\n",
    "                    style = {'width': '10em'}\n",
    "                ) for name, opt in DROPDOWN_OPTIONS.items()\n",
    "            ], style = {'display': 'flex', 'justify-content': 'space-between'}\n",
    "        \n",
    "        ),\n",
    "        html.Hr(),\n",
    "        dcc.Graph(figure = get_figure('Custom Census Data Plotter'))\n",
    "        \n",
    "    ], style = {'border-style': 'solid', 'padding': '1em'}\n",
    ")\n",
    "\n",
    "app.run_server(\n",
    "    mode = 'inline',\n",
    "    debug = True,\n",
    "    port = 8000\n",
    ")"
   ]
  },
  {
   "cell_type": "markdown",
   "metadata": {},
   "source": [
    "## 2. Functionality\n",
    "We need the dropdowns to continuously update based on the selection made.<br>\n",
    "After making a selection of the first, the second must become enabled, and then the third, etc.<br>\n",
    "Once a terminal selection has been reached, a graph is going to be plotted."
   ]
  },
  {
   "cell_type": "code",
   "execution_count": 6,
   "metadata": {
    "scrolled": true
   },
   "outputs": [
    {
     "data": {
      "text/plain": [
       "(True, True)"
      ]
     },
     "execution_count": 6,
     "metadata": {},
     "output_type": "execute_result"
    }
   ],
   "source": [
    "def check_next(values):\n",
    "    '''\n",
    "    here I want to check if the selected level is a terminal selection\n",
    "    This returns a tupple:\n",
    "        True if next level has options\n",
    "        True if the current level is a terminal option\n",
    "    \n",
    "    values is a list of [value/None]\n",
    "    '''\n",
    "    meta_tmp = meta.copy()\n",
    "    for level, val in enumerate(values):\n",
    "        if val:\n",
    "            meta_tmp = meta_tmp.loc[meta_tmp['level_{}'.format(level + 1)] == val].copy()\n",
    "        else:\n",
    "            next_level = True if meta_tmp['level_{}'.format(level + 1)].any() else False\n",
    "            this_level = not meta_tmp.loc[pd.isna(meta_tmp['level_{}'.format(level + 1)])].empty\n",
    "\n",
    "            break\n",
    "    \n",
    "    return(next_level, this_level)\n",
    "\n",
    "check_next(['SEX AND AGE', 'Total population', None, None, None])"
   ]
  },
  {
   "cell_type": "code",
   "execution_count": 8,
   "metadata": {
    "scrolled": false
   },
   "outputs": [
    {
     "name": "stderr",
     "output_type": "stream",
     "text": [
      "/Users/duxueyuan/opt/anaconda3/lib/python3.8/site-packages/jupyter_dash/jupyter_app.py:139: UserWarning:\n",
      "\n",
      "The 'environ['werkzeug.server.shutdown']' function is deprecated and will be removed in Werkzeug 2.1.\n",
      "\n"
     ]
    },
    {
     "data": {
      "text/html": [
       "\n",
       "        <iframe\n",
       "            width=\"100%\"\n",
       "            height=\"650\"\n",
       "            src=\"http://127.0.0.1:8010/\"\n",
       "            frameborder=\"0\"\n",
       "            allowfullscreen\n",
       "            \n",
       "        ></iframe>\n",
       "        "
      ],
      "text/plain": [
       "<IPython.lib.display.IFrame at 0x7f9610359280>"
      ]
     },
     "metadata": {},
     "output_type": "display_data"
    },
    {
     "name": "stdout",
     "output_type": "stream",
     "text": [
      "('SEX AND AGE', None, None, None, None)\n",
      "SEX AND AGE None None None None\n",
      "('SEX AND AGE', 'Under 5 years', None, None, None)\n",
      "SEX AND AGE Under 5 years None None None\n",
      "(None, 'Under 5 years', None, None, None)\n",
      "None Under 5 years None None None\n",
      "('RACE', 'Under 5 years', None, None, None)\n",
      "RACE Under 5 years None None None\n"
     ]
    }
   ],
   "source": [
    "# First initialize the app\n",
    "app = JupyterDash(\n",
    "    __name__,\n",
    "    prevent_initial_callbacks = True\n",
    ")\n",
    "\n",
    "DROPDOWN_OPTIONS = get_levels()\n",
    "\n",
    "# define the initial state of the app -> app.layout is what the user sees from upon launching the app\n",
    "app.layout = html.Div(\n",
    "    [\n",
    "        html.H3('Sandbox for Dash Apps'),\n",
    "        html.H4('Part 2: Adding functionality to the dropdowns'),\n",
    "       \n",
    "        # There are hidden options here\n",
    "        html.Hr(),\n",
    "        html.P('Please select the corresponding series to be plotted. The graph will automatically appear once the final available level has been reached.'),\n",
    "        html.Div(\n",
    "            # let's create all the dropdowns as dynamically as possible\n",
    "            [\n",
    "                dcc.Dropdown(\n",
    "                    options = opt,\n",
    "                    placeholder = 'Select level {}'.format(name.replace('_', ' ')),\n",
    "                    # now I am making only the very first dropdown enabled\n",
    "                    disabled = False if name == 'level_1' else True,\n",
    "                    searchable = True,\n",
    "                    multi = False,\n",
    "                    id = '{}_dd'.format(name),\n",
    "                    style = {'width': '10em'}\n",
    "                ) for name, opt in DROPDOWN_OPTIONS.items()\n",
    "            ], style = {'display': 'flex', 'justify-content': 'space-between'}\n",
    "                ),\n",
    "        html.Hr(),\n",
    "        dcc.Graph(figure = get_figure('Custom Census Data Plotter')),\n",
    "        html.Div(id = 'alert')\n",
    "        \n",
    "    ], style = {'border-style': 'solid', 'padding': '1em'}\n",
    ")\n",
    "\n",
    "# let's use the same dynamics of get_levels to create this callback with list comprehension\n",
    "# this needs to sequentially enable/disable the dropdowns\n",
    "@app.callback(\n",
    "    [\n",
    "        Output('alert', 'children'),\n",
    "    ] + [Output('{}_dd'.format(name), 'disabled') for name in DROPDOWN_OPTIONS.keys()],\n",
    "    [Input('{}_dd'.format(name), 'value') for name in DROPDOWN_OPTIONS.keys()]\n",
    ")\n",
    "def check_stuff(*args):\n",
    "    '''\n",
    "    The *args contain each one of the ids listed in DROPDOWN_OPTIONS.keys()\n",
    "    this can be passed into a dictionary to keep easy track of it, or just access it via positional element\n",
    "    \n",
    "    First, we need to figure out which dropdown was pressed. This works like this:\n",
    "       1. First capture the context of the triggers\n",
    "       2. If no context, then prevent update -> this is really unlike it but it seems to be best-practice\n",
    "       3. Add the logic to each event\n",
    "    '''\n",
    "    \n",
    "    ctx = dash.callback_context\n",
    "    if not ctx.triggered:\n",
    "        from dash.exceptions import PreventUpdate\n",
    "        print('hey!')\n",
    "        raise PreventUpdate\n",
    "    else:\n",
    "        dropdown = ctx.triggered[0]['prop_id'].split('.')[0]\n",
    "    \n",
    "    print(args)\n",
    "    print(*args)\n",
    "    \n",
    "    # check the dropdown succession\n",
    "    next, terminal = check_next(args)\n",
    "        \n",
    "    # First handle the message\n",
    "    if terminal:\n",
    "        alert = 'The selection would result in a plot of {}'.format(args)\n",
    "    else:\n",
    "        alert = 'Please chose further options'\n",
    "        \n",
    "    # Now, let's figure out the output of the dropdowns. Dropdown holds the value of the pressed id.\n",
    "    # Can we make this any better?\n",
    "    if dropdown == 'level_1_dd':\n",
    "        disabled = [False] + [not next] + [True]*3\n",
    "    if dropdown == 'level_2_dd':\n",
    "        disabled = [False]*2 + [not next] + [True]*2\n",
    "    if dropdown == 'level_3_dd':\n",
    "        disabled = [False]*3 + [not next] + [True]*1\n",
    "    if dropdown == 'level_4_dd':\n",
    "        disabled = [False]*4 + [not next]\n",
    "    if dropdown == 'level_5_dd':\n",
    "        disabled = [False]*5\n",
    "        \n",
    "    return([alert] + disabled)\n",
    "    \n",
    "app.run_server(\n",
    "    mode = 'inline',\n",
    "    debug = True,\n",
    "    port = 8010      # I am changing the port so that the apps run individually\n",
    ")"
   ]
  },
  {
   "cell_type": "markdown",
   "metadata": {},
   "source": [
    "**Is this working properly? What else do we need to handle?**"
   ]
  },
  {
   "cell_type": "markdown",
   "metadata": {},
   "source": [
    "## 3. Plotting the graph\n",
    "Now that we have the basic functionality of the dropdowns. Let's get the plots in.<br>\n",
    "Here we:\n",
    "- write a function that returns the graph.\n",
    "- fixes the dropdown clearing"
   ]
  },
  {
   "cell_type": "code",
   "execution_count": 10,
   "metadata": {},
   "outputs": [
    {
     "data": {
      "text/plain": [
       "(True, True, 'DP05_0001E')"
      ]
     },
     "execution_count": 10,
     "metadata": {},
     "output_type": "execute_result"
    }
   ],
   "source": [
    "# let's add one more thing to the check_next function so that we can get the series name based on the level\n",
    "def check_next(values):\n",
    "    '''\n",
    "    here I want to check if the selected level is a terminal selection\n",
    "    This returns a tupple:\n",
    "        True if next level has options\n",
    "        True if the current level is a terminal option\n",
    "    '''\n",
    "    meta_tmp = meta.copy()\n",
    "    for level, val in enumerate(values):\n",
    "        if val:\n",
    "            meta_tmp = meta_tmp.loc[meta_tmp['level_{}'.format(level + 1)] == val].copy()\n",
    "        else:\n",
    "            next_level = True if meta_tmp['level_{}'.format(level + 1)].any() else False\n",
    "            this_level = not meta_tmp.loc[pd.isna(meta_tmp['level_{}'.format(level + 1)])].empty\n",
    "\n",
    "            break\n",
    "    \n",
    "    series_name = None\n",
    "    if this_level and level < len(values):\n",
    "        series_name = meta_tmp.loc[pd.isna(meta_tmp['level_{}'.format(level + 1)]), 'id']\n",
    "    else:\n",
    "        series_name = meta_tmp['id']\n",
    "    \n",
    "    return(next_level, this_level, series_name.squeeze())\n",
    "\n",
    "check_next(['SEX AND AGE', 'Total population', None, None, None])\n",
    "    "
   ]
  },
  {
   "cell_type": "code",
   "execution_count": 11,
   "metadata": {},
   "outputs": [
    {
     "data": {
      "application/vnd.plotly.v1+json": {
       "config": {
        "plotlyServerURL": "https://plot.ly"
       },
       "data": [
        {
         "name": "SEX AND AGE-Total population",
         "type": "scatter",
         "x": [
          2019,
          2018,
          2017,
          2016,
          2015,
          2014,
          2013,
          2012,
          2011,
          2010
         ],
         "y": [
          328239523,
          327167439,
          325719178,
          323127515,
          321418821,
          318857056,
          316128839,
          313914040,
          311591919,
          309349689
         ]
        }
       ],
       "layout": {
        "autosize": false,
        "height": 400,
        "paper_bgcolor": "white",
        "plot_bgcolor": "white",
        "template": {
         "data": {
          "bar": [
           {
            "error_x": {
             "color": "#2a3f5f"
            },
            "error_y": {
             "color": "#2a3f5f"
            },
            "marker": {
             "line": {
              "color": "#E5ECF6",
              "width": 0.5
             },
             "pattern": {
              "fillmode": "overlay",
              "size": 10,
              "solidity": 0.2
             }
            },
            "type": "bar"
           }
          ],
          "barpolar": [
           {
            "marker": {
             "line": {
              "color": "#E5ECF6",
              "width": 0.5
             },
             "pattern": {
              "fillmode": "overlay",
              "size": 10,
              "solidity": 0.2
             }
            },
            "type": "barpolar"
           }
          ],
          "carpet": [
           {
            "aaxis": {
             "endlinecolor": "#2a3f5f",
             "gridcolor": "white",
             "linecolor": "white",
             "minorgridcolor": "white",
             "startlinecolor": "#2a3f5f"
            },
            "baxis": {
             "endlinecolor": "#2a3f5f",
             "gridcolor": "white",
             "linecolor": "white",
             "minorgridcolor": "white",
             "startlinecolor": "#2a3f5f"
            },
            "type": "carpet"
           }
          ],
          "choropleth": [
           {
            "colorbar": {
             "outlinewidth": 0,
             "ticks": ""
            },
            "type": "choropleth"
           }
          ],
          "contour": [
           {
            "colorbar": {
             "outlinewidth": 0,
             "ticks": ""
            },
            "colorscale": [
             [
              0,
              "#0d0887"
             ],
             [
              0.1111111111111111,
              "#46039f"
             ],
             [
              0.2222222222222222,
              "#7201a8"
             ],
             [
              0.3333333333333333,
              "#9c179e"
             ],
             [
              0.4444444444444444,
              "#bd3786"
             ],
             [
              0.5555555555555556,
              "#d8576b"
             ],
             [
              0.6666666666666666,
              "#ed7953"
             ],
             [
              0.7777777777777778,
              "#fb9f3a"
             ],
             [
              0.8888888888888888,
              "#fdca26"
             ],
             [
              1,
              "#f0f921"
             ]
            ],
            "type": "contour"
           }
          ],
          "contourcarpet": [
           {
            "colorbar": {
             "outlinewidth": 0,
             "ticks": ""
            },
            "type": "contourcarpet"
           }
          ],
          "heatmap": [
           {
            "colorbar": {
             "outlinewidth": 0,
             "ticks": ""
            },
            "colorscale": [
             [
              0,
              "#0d0887"
             ],
             [
              0.1111111111111111,
              "#46039f"
             ],
             [
              0.2222222222222222,
              "#7201a8"
             ],
             [
              0.3333333333333333,
              "#9c179e"
             ],
             [
              0.4444444444444444,
              "#bd3786"
             ],
             [
              0.5555555555555556,
              "#d8576b"
             ],
             [
              0.6666666666666666,
              "#ed7953"
             ],
             [
              0.7777777777777778,
              "#fb9f3a"
             ],
             [
              0.8888888888888888,
              "#fdca26"
             ],
             [
              1,
              "#f0f921"
             ]
            ],
            "type": "heatmap"
           }
          ],
          "heatmapgl": [
           {
            "colorbar": {
             "outlinewidth": 0,
             "ticks": ""
            },
            "colorscale": [
             [
              0,
              "#0d0887"
             ],
             [
              0.1111111111111111,
              "#46039f"
             ],
             [
              0.2222222222222222,
              "#7201a8"
             ],
             [
              0.3333333333333333,
              "#9c179e"
             ],
             [
              0.4444444444444444,
              "#bd3786"
             ],
             [
              0.5555555555555556,
              "#d8576b"
             ],
             [
              0.6666666666666666,
              "#ed7953"
             ],
             [
              0.7777777777777778,
              "#fb9f3a"
             ],
             [
              0.8888888888888888,
              "#fdca26"
             ],
             [
              1,
              "#f0f921"
             ]
            ],
            "type": "heatmapgl"
           }
          ],
          "histogram": [
           {
            "marker": {
             "pattern": {
              "fillmode": "overlay",
              "size": 10,
              "solidity": 0.2
             }
            },
            "type": "histogram"
           }
          ],
          "histogram2d": [
           {
            "colorbar": {
             "outlinewidth": 0,
             "ticks": ""
            },
            "colorscale": [
             [
              0,
              "#0d0887"
             ],
             [
              0.1111111111111111,
              "#46039f"
             ],
             [
              0.2222222222222222,
              "#7201a8"
             ],
             [
              0.3333333333333333,
              "#9c179e"
             ],
             [
              0.4444444444444444,
              "#bd3786"
             ],
             [
              0.5555555555555556,
              "#d8576b"
             ],
             [
              0.6666666666666666,
              "#ed7953"
             ],
             [
              0.7777777777777778,
              "#fb9f3a"
             ],
             [
              0.8888888888888888,
              "#fdca26"
             ],
             [
              1,
              "#f0f921"
             ]
            ],
            "type": "histogram2d"
           }
          ],
          "histogram2dcontour": [
           {
            "colorbar": {
             "outlinewidth": 0,
             "ticks": ""
            },
            "colorscale": [
             [
              0,
              "#0d0887"
             ],
             [
              0.1111111111111111,
              "#46039f"
             ],
             [
              0.2222222222222222,
              "#7201a8"
             ],
             [
              0.3333333333333333,
              "#9c179e"
             ],
             [
              0.4444444444444444,
              "#bd3786"
             ],
             [
              0.5555555555555556,
              "#d8576b"
             ],
             [
              0.6666666666666666,
              "#ed7953"
             ],
             [
              0.7777777777777778,
              "#fb9f3a"
             ],
             [
              0.8888888888888888,
              "#fdca26"
             ],
             [
              1,
              "#f0f921"
             ]
            ],
            "type": "histogram2dcontour"
           }
          ],
          "mesh3d": [
           {
            "colorbar": {
             "outlinewidth": 0,
             "ticks": ""
            },
            "type": "mesh3d"
           }
          ],
          "parcoords": [
           {
            "line": {
             "colorbar": {
              "outlinewidth": 0,
              "ticks": ""
             }
            },
            "type": "parcoords"
           }
          ],
          "pie": [
           {
            "automargin": true,
            "type": "pie"
           }
          ],
          "scatter": [
           {
            "marker": {
             "colorbar": {
              "outlinewidth": 0,
              "ticks": ""
             }
            },
            "type": "scatter"
           }
          ],
          "scatter3d": [
           {
            "line": {
             "colorbar": {
              "outlinewidth": 0,
              "ticks": ""
             }
            },
            "marker": {
             "colorbar": {
              "outlinewidth": 0,
              "ticks": ""
             }
            },
            "type": "scatter3d"
           }
          ],
          "scattercarpet": [
           {
            "marker": {
             "colorbar": {
              "outlinewidth": 0,
              "ticks": ""
             }
            },
            "type": "scattercarpet"
           }
          ],
          "scattergeo": [
           {
            "marker": {
             "colorbar": {
              "outlinewidth": 0,
              "ticks": ""
             }
            },
            "type": "scattergeo"
           }
          ],
          "scattergl": [
           {
            "marker": {
             "colorbar": {
              "outlinewidth": 0,
              "ticks": ""
             }
            },
            "type": "scattergl"
           }
          ],
          "scattermapbox": [
           {
            "marker": {
             "colorbar": {
              "outlinewidth": 0,
              "ticks": ""
             }
            },
            "type": "scattermapbox"
           }
          ],
          "scatterpolar": [
           {
            "marker": {
             "colorbar": {
              "outlinewidth": 0,
              "ticks": ""
             }
            },
            "type": "scatterpolar"
           }
          ],
          "scatterpolargl": [
           {
            "marker": {
             "colorbar": {
              "outlinewidth": 0,
              "ticks": ""
             }
            },
            "type": "scatterpolargl"
           }
          ],
          "scatterternary": [
           {
            "marker": {
             "colorbar": {
              "outlinewidth": 0,
              "ticks": ""
             }
            },
            "type": "scatterternary"
           }
          ],
          "surface": [
           {
            "colorbar": {
             "outlinewidth": 0,
             "ticks": ""
            },
            "colorscale": [
             [
              0,
              "#0d0887"
             ],
             [
              0.1111111111111111,
              "#46039f"
             ],
             [
              0.2222222222222222,
              "#7201a8"
             ],
             [
              0.3333333333333333,
              "#9c179e"
             ],
             [
              0.4444444444444444,
              "#bd3786"
             ],
             [
              0.5555555555555556,
              "#d8576b"
             ],
             [
              0.6666666666666666,
              "#ed7953"
             ],
             [
              0.7777777777777778,
              "#fb9f3a"
             ],
             [
              0.8888888888888888,
              "#fdca26"
             ],
             [
              1,
              "#f0f921"
             ]
            ],
            "type": "surface"
           }
          ],
          "table": [
           {
            "cells": {
             "fill": {
              "color": "#EBF0F8"
             },
             "line": {
              "color": "white"
             }
            },
            "header": {
             "fill": {
              "color": "#C8D4E3"
             },
             "line": {
              "color": "white"
             }
            },
            "type": "table"
           }
          ]
         },
         "layout": {
          "annotationdefaults": {
           "arrowcolor": "#2a3f5f",
           "arrowhead": 0,
           "arrowwidth": 1
          },
          "autotypenumbers": "strict",
          "coloraxis": {
           "colorbar": {
            "outlinewidth": 0,
            "ticks": ""
           }
          },
          "colorscale": {
           "diverging": [
            [
             0,
             "#8e0152"
            ],
            [
             0.1,
             "#c51b7d"
            ],
            [
             0.2,
             "#de77ae"
            ],
            [
             0.3,
             "#f1b6da"
            ],
            [
             0.4,
             "#fde0ef"
            ],
            [
             0.5,
             "#f7f7f7"
            ],
            [
             0.6,
             "#e6f5d0"
            ],
            [
             0.7,
             "#b8e186"
            ],
            [
             0.8,
             "#7fbc41"
            ],
            [
             0.9,
             "#4d9221"
            ],
            [
             1,
             "#276419"
            ]
           ],
           "sequential": [
            [
             0,
             "#0d0887"
            ],
            [
             0.1111111111111111,
             "#46039f"
            ],
            [
             0.2222222222222222,
             "#7201a8"
            ],
            [
             0.3333333333333333,
             "#9c179e"
            ],
            [
             0.4444444444444444,
             "#bd3786"
            ],
            [
             0.5555555555555556,
             "#d8576b"
            ],
            [
             0.6666666666666666,
             "#ed7953"
            ],
            [
             0.7777777777777778,
             "#fb9f3a"
            ],
            [
             0.8888888888888888,
             "#fdca26"
            ],
            [
             1,
             "#f0f921"
            ]
           ],
           "sequentialminus": [
            [
             0,
             "#0d0887"
            ],
            [
             0.1111111111111111,
             "#46039f"
            ],
            [
             0.2222222222222222,
             "#7201a8"
            ],
            [
             0.3333333333333333,
             "#9c179e"
            ],
            [
             0.4444444444444444,
             "#bd3786"
            ],
            [
             0.5555555555555556,
             "#d8576b"
            ],
            [
             0.6666666666666666,
             "#ed7953"
            ],
            [
             0.7777777777777778,
             "#fb9f3a"
            ],
            [
             0.8888888888888888,
             "#fdca26"
            ],
            [
             1,
             "#f0f921"
            ]
           ]
          },
          "colorway": [
           "#636efa",
           "#EF553B",
           "#00cc96",
           "#ab63fa",
           "#FFA15A",
           "#19d3f3",
           "#FF6692",
           "#B6E880",
           "#FF97FF",
           "#FECB52"
          ],
          "font": {
           "color": "#2a3f5f"
          },
          "geo": {
           "bgcolor": "white",
           "lakecolor": "white",
           "landcolor": "#E5ECF6",
           "showlakes": true,
           "showland": true,
           "subunitcolor": "white"
          },
          "hoverlabel": {
           "align": "left"
          },
          "hovermode": "closest",
          "mapbox": {
           "style": "light"
          },
          "paper_bgcolor": "white",
          "plot_bgcolor": "#E5ECF6",
          "polar": {
           "angularaxis": {
            "gridcolor": "white",
            "linecolor": "white",
            "ticks": ""
           },
           "bgcolor": "#E5ECF6",
           "radialaxis": {
            "gridcolor": "white",
            "linecolor": "white",
            "ticks": ""
           }
          },
          "scene": {
           "xaxis": {
            "backgroundcolor": "#E5ECF6",
            "gridcolor": "white",
            "gridwidth": 2,
            "linecolor": "white",
            "showbackground": true,
            "ticks": "",
            "zerolinecolor": "white"
           },
           "yaxis": {
            "backgroundcolor": "#E5ECF6",
            "gridcolor": "white",
            "gridwidth": 2,
            "linecolor": "white",
            "showbackground": true,
            "ticks": "",
            "zerolinecolor": "white"
           },
           "zaxis": {
            "backgroundcolor": "#E5ECF6",
            "gridcolor": "white",
            "gridwidth": 2,
            "linecolor": "white",
            "showbackground": true,
            "ticks": "",
            "zerolinecolor": "white"
           }
          },
          "shapedefaults": {
           "line": {
            "color": "#2a3f5f"
           }
          },
          "ternary": {
           "aaxis": {
            "gridcolor": "white",
            "linecolor": "white",
            "ticks": ""
           },
           "baxis": {
            "gridcolor": "white",
            "linecolor": "white",
            "ticks": ""
           },
           "bgcolor": "#E5ECF6",
           "caxis": {
            "gridcolor": "white",
            "linecolor": "white",
            "ticks": ""
           }
          },
          "title": {
           "x": 0.05
          },
          "xaxis": {
           "automargin": true,
           "gridcolor": "white",
           "linecolor": "white",
           "ticks": "",
           "title": {
            "standoff": 15
           },
           "zerolinecolor": "white",
           "zerolinewidth": 2
          },
          "yaxis": {
           "automargin": true,
           "gridcolor": "white",
           "linecolor": "white",
           "ticks": "",
           "title": {
            "standoff": 15
           },
           "zerolinecolor": "white",
           "zerolinewidth": 2
          }
         }
        },
        "title": {
         "font": {
          "size": 22
         },
         "text": "Testing figure",
         "x": 0.5,
         "y": 0.95
        },
        "xaxis": {
         "linecolor": "black",
         "linewidth": 1,
         "showline": true,
         "title": {}
        },
        "yaxis": {
         "linecolor": "black",
         "linewidth": 1,
         "showline": true
        }
       }
      }
     },
     "metadata": {},
     "output_type": "display_data"
    }
   ],
   "source": [
    "def plot_curve(series_name, description, fig):\n",
    "    this_data = data.loc[data['name'] == series_name].copy()     #in case we need to modify the slice\n",
    "    x = this_data['year'].to_list()\n",
    "    y = this_data['data'].to_list()\n",
    "    \n",
    "    fig.add_trace(go.Scatter(y = y, x = x, name = description))\n",
    "    \n",
    "    return(fig)\n",
    "\n",
    "\n",
    "\n",
    "# For testing\n",
    "fig = get_figure('Testing figure')\n",
    "series_name = 'DP05_0001E'\n",
    "description = 'SEX AND AGE-Total population'\n",
    "fig = plot_curve(series_name, description, fig)\n",
    "fig.show()"
   ]
  },
  {
   "cell_type": "markdown",
   "metadata": {},
   "source": [
    "### back to the app development"
   ]
  },
  {
   "cell_type": "code",
   "execution_count": 13,
   "metadata": {
    "scrolled": false
   },
   "outputs": [
    {
     "name": "stderr",
     "output_type": "stream",
     "text": [
      "/Users/duxueyuan/opt/anaconda3/lib/python3.8/site-packages/jupyter_dash/jupyter_app.py:139: UserWarning:\n",
      "\n",
      "The 'environ['werkzeug.server.shutdown']' function is deprecated and will be removed in Werkzeug 2.1.\n",
      "\n"
     ]
    },
    {
     "data": {
      "text/html": [
       "\n",
       "        <iframe\n",
       "            width=\"100%\"\n",
       "            height=\"650\"\n",
       "            src=\"http://127.0.0.1:8020/\"\n",
       "            frameborder=\"0\"\n",
       "            allowfullscreen\n",
       "            \n",
       "        ></iframe>\n",
       "        "
      ],
      "text/plain": [
       "<IPython.lib.display.IFrame at 0x7f96216395b0>"
      ]
     },
     "metadata": {},
     "output_type": "display_data"
    },
    {
     "name": "stdout",
     "output_type": "stream",
     "text": [
      "Check if the args ['RACE', None, None, None, None] match the dropdowns\n",
      "Check if the args ['RACE', 'Under 5 years', None, None, None] match the dropdowns\n",
      "Check if the args ['RACE', None, None, None, None] match the dropdowns\n",
      "Check if the args ['RACE', '10 to 14 years', None, None, None] match the dropdowns\n"
     ]
    }
   ],
   "source": [
    "# First initialize the app\n",
    "app = JupyterDash(\n",
    "    __name__,\n",
    "    prevent_initial_callbacks = True\n",
    ")\n",
    "\n",
    "DROPDOWN_OPTIONS = get_levels()\n",
    "\n",
    "# define the initial state of the app -> app.layout is what the user sees from upon launching the app\n",
    "app.layout = html.Div(\n",
    "    [\n",
    "        html.H3('Sandbox for Dash Apps'),\n",
    "        html.H4('Part 3: Getting a graph'),\n",
    "       \n",
    "        # There are hidden options here\n",
    "        html.Hr(),\n",
    "        html.P('Please select the corresponding series to be plotted. The graph will automatically appear once the final available level has been reached.'),\n",
    "        html.Div(\n",
    "            # let's create all the dropdowns as dynamically as possible\n",
    "            [\n",
    "                dcc.Dropdown(\n",
    "                    options = opt,\n",
    "                    placeholder = 'Select level {}'.format(name.replace('_', ' ')),\n",
    "                    disabled = False if name == 'level_1' else True,\n",
    "                    searchable = True,\n",
    "                    multi = False,\n",
    "                    id = '{}_dd'.format(name),\n",
    "                    style = {'width': '10em'}\n",
    "                ) for name, opt in DROPDOWN_OPTIONS.items()\n",
    "            ], style = {'display': 'flex', 'justify-content': 'space-between'}\n",
    "                ),\n",
    "        html.Hr(),\n",
    "        dcc.Graph(figure = get_figure('Custom Census Data Plotter'), id = 'figure'),\n",
    "        html.Div(id = 'alert')\n",
    "        \n",
    "    ], style = {'border-style': 'solid', 'padding': '1em'}\n",
    ")\n",
    "\n",
    "# let's use the same dynamics of get_levels to create this callback with list comprehension\n",
    "@app.callback(\n",
    "    [\n",
    "        Output('alert', 'children'),\n",
    "    ] + [Output('{}_dd'.format(name), 'disabled') for name in DROPDOWN_OPTIONS.keys()] + [\n",
    "        Output('figure', 'figure'),\n",
    "    ],\n",
    "    [Input('{}_dd'.format(name), 'value') for name in DROPDOWN_OPTIONS.keys()],\n",
    ")\n",
    "def check_stuff(*args):\n",
    "    '''\n",
    "    The *args contain each one of the ids listed in DROPDOWN_OPTIONS.keys()\n",
    "    this can be passed into a dictionary to keep easy track of it, or just access it via positional element\n",
    "    \n",
    "    First, we need to figure out which dropdown was pressed. This works like this:\n",
    "       1. First capture the context of the triggers\n",
    "       2. If no context, then prevent update\n",
    "       3. Add the logic to each event\n",
    "    '''\n",
    "    \n",
    "    ctx = dash.callback_context\n",
    "    if not ctx.triggered:\n",
    "        from dash.exceptions import PreventUpdate\n",
    "        raise PreventUpdate\n",
    "    else:\n",
    "        dropdown = ctx.triggered[0]['prop_id'].split('.')[0]\n",
    "       \n",
    "    # check the dropdown succession\n",
    "    next, terminal, series_name = check_next(args)\n",
    "        \n",
    "    # First handle the message\n",
    "    if terminal:\n",
    "        alert = 'The selection would result in a plot of {}'.format(args)\n",
    "    else:\n",
    "        alert = 'Please chose further options'\n",
    "    \n",
    "    # Now, let's figure out the output of the dropdowns. Dropdown holds the value of the pressed id.\n",
    "    \n",
    "    # First, make None everything after a None\n",
    "    for pos_none, arg in enumerate(args):\n",
    "        if not arg:\n",
    "            args = [arg if pos < pos_none else None for pos, arg in enumerate(args)]\n",
    "    print('Check if the args {} match the dropdowns'.format(args))\n",
    "    \n",
    "    # Can we make this any better?\n",
    "    if dropdown == 'level_1_dd':\n",
    "        disabled = [False] + [not next] + [True]*3\n",
    "    elif dropdown == 'level_2_dd':\n",
    "        disabled = [False]*2 + [not next] + [True]*2\n",
    "    elif dropdown == 'level_3_dd':\n",
    "        disabled = [False]*3 + [not next] + [True]*1\n",
    "    elif dropdown == 'level_4_dd':\n",
    "        disabled = [False]*4 + [not next]\n",
    "    elif dropdown == 'level_5_dd':\n",
    "        disabled = [False]*5\n",
    "    \n",
    "    if isinstance(series_name, str):\n",
    "        fig = plot_curve(series_name, description, fig = get_figure('A brand new figure'))\n",
    "    else:\n",
    "        fig = get_figure('A brand new figure')\n",
    "    \n",
    "    return([alert] + disabled + [fig])\n",
    "    \n",
    "app.run_server(\n",
    "    mode = 'inline',\n",
    "    debug = True,\n",
    "    port = 8020\n",
    ")"
   ]
  },
  {
   "cell_type": "markdown",
   "metadata": {},
   "source": [
    "### Observations:\n",
    "There are a few things to notice/fix here:\n",
    "1. The figure is re-created everytime which can be more resource consuming,\n",
    "2. Recall that plotly figures are objects that have sort of memory, \n",
    "3. The State() function allows us to take the current state of any component, or figure object, and use it as needed, \n",
    "4. **BUT** we still have a problem, we should have a control to make sure the series is not already added, and\n",
    "5. We can also add the dropdown values to the outputs so that we can fix the discrepancy after clearing"
   ]
  },
  {
   "cell_type": "code",
   "execution_count": 14,
   "metadata": {
    "scrolled": false
   },
   "outputs": [
    {
     "data": {
      "text/html": [
       "\n",
       "        <iframe\n",
       "            width=\"100%\"\n",
       "            height=\"650\"\n",
       "            src=\"http://127.0.0.1:8030/\"\n",
       "            frameborder=\"0\"\n",
       "            allowfullscreen\n",
       "            \n",
       "        ></iframe>\n",
       "        "
      ],
      "text/plain": [
       "<IPython.lib.display.IFrame at 0x7f95f02f71c0>"
      ]
     },
     "metadata": {},
     "output_type": "display_data"
    }
   ],
   "source": [
    "# First initialize the app\n",
    "app = JupyterDash(\n",
    "    __name__,\n",
    "    prevent_initial_callbacks = True\n",
    ")\n",
    "\n",
    "DROPDOWN_OPTIONS = get_levels()\n",
    "\n",
    "# define the initial state of the app -> app.layout is what the user sees from upon launching the app\n",
    "app.layout = html.Div(\n",
    "    [\n",
    "        html.H3('Sandbox for Dash Apps'),\n",
    "        html.H4('Part 4: Reusing the graph object via callback State()'),\n",
    "       \n",
    "        # There are hidden options here\n",
    "        html.Hr(),\n",
    "        html.P('Please select the corresponding series to be plotted. The graph will automatically appear once the final available level has been reached.'),\n",
    "        html.Div(\n",
    "            # let's create all the dropdowns as dynamically as possible\n",
    "            [\n",
    "                dcc.Dropdown(\n",
    "                    options = opt,\n",
    "                    placeholder = 'Select level {}'.format(name.replace('_', ' ')),\n",
    "                    disabled = False if name == 'level_1' else True,\n",
    "                    searchable = True,\n",
    "                    multi = False,\n",
    "                    id = '{}_dd'.format(name),\n",
    "                    style = {'width': '10em'}\n",
    "                ) for name, opt in DROPDOWN_OPTIONS.items()\n",
    "            ], style = {'display': 'flex', 'justify-content': 'space-between'}\n",
    "                ),\n",
    "        html.Hr(),\n",
    "        dcc.Graph(figure = get_figure('Custom Census Data Plotter'), id = 'figure'),\n",
    "        html.Div(id = 'alert')\n",
    "        \n",
    "    ], style = {'border-style': 'solid', 'padding': '1em'}\n",
    ")\n",
    "\n",
    "# let's use the same dynamics of get_levels to create this callback with list comprehension\n",
    "@app.callback(\n",
    "    [\n",
    "        Output('alert', 'children'),\n",
    "    ] + [\n",
    "        Output('{}_dd'.format(name), 'disabled') for name in DROPDOWN_OPTIONS.keys()\n",
    "    ] + [\n",
    "        Output('{}_dd'.format(name), 'value') for name in DROPDOWN_OPTIONS.keys()\n",
    "    ] + [\n",
    "        Output('figure', 'figure'),\n",
    "    ],\n",
    "    [Input('{}_dd'.format(name), 'value') for name in DROPDOWN_OPTIONS.keys()],\n",
    "    State('figure', 'figure')\n",
    ")\n",
    "def populate_cities(*args):\n",
    "    '''\n",
    "    The *args contain each one of the ids listed in DROPDOWN_OPTIONS.keys()\n",
    "    this can be passed into a dictionary to keep easy track of it, or just access it via positional element\n",
    "    \n",
    "    First, we need to figure out which dropdown was pressed. This works like this:\n",
    "       1. First capture the context of the triggers\n",
    "       2. If no context, then prevent update\n",
    "       3. Add the logic to each event\n",
    "    '''\n",
    "    \n",
    "    ctx = dash.callback_context\n",
    "    if not ctx.triggered:\n",
    "        from dash.exceptions import PreventUpdate\n",
    "        raise PreventUpdate\n",
    "    else:\n",
    "        dropdown = ctx.triggered[0]['prop_id'].split('.')[0]\n",
    "    \n",
    "    ######## SINCE I ADDED THE STATE, I need to remove it from the args. But the args is a tupple, so I cannot pop it\n",
    "    print('This is the state of the figure', type(args[-1]))\n",
    "    fig = go.Figure(args[-1])\n",
    "    print('And this is the acctual figure', type(fig))\n",
    "    args = [arg for arg in args[:-1]]\n",
    "    #######\n",
    "    \n",
    "    # check the dropdown succession\n",
    "    next, terminal, series_name = check_next(args)\n",
    "        \n",
    "    # First handle the message\n",
    "    if terminal:\n",
    "        alert = 'The selection would result in a plot of {}'.format(args)\n",
    "    else:\n",
    "        alert = 'Please chose further options'\n",
    "    \n",
    "    #####################################################################\n",
    "    ####################### at the very least we could loop \n",
    "    #####################################################################\n",
    "    disabled = [False] * 5\n",
    "    \n",
    "    # First, make None everything after a None\n",
    "    for pos_none, arg in enumerate(args):\n",
    "        if not arg:\n",
    "            args = [arg if pos < pos_none else None for pos, arg in enumerate(args)]\n",
    "    \n",
    "    for x in range(1, len(args) - 1):\n",
    "        if dropdown == 'level_{}_dd'.format(x):\n",
    "            # also, add a condition to disable all dropdowns when a clearing happens\n",
    "            if not args[x-1]:\n",
    "                disabled = [False]*x + [True]*(len(args) - x)\n",
    "            else:\n",
    "                disabled = [False]*x + [not next] + [True]*(len(args) - x - 1)\n",
    "            break\n",
    "    \n",
    "    if isinstance(series_name, str):\n",
    "        series_label = '-'.join([x.lower() for x in args if x])\n",
    "        \n",
    "        # this takes care of the duplication\n",
    "        add_series = True\n",
    "        for sct in fig.data:\n",
    "            if sct.name == series_label:\n",
    "                add_series = False\n",
    "        if add_series:        \n",
    "            fig = plot_curve(series_name, series_label, fig)\n",
    "    \n",
    "    return([alert] + disabled + args + [fig])\n",
    "    \n",
    "app.run_server(\n",
    "    mode = 'inline',\n",
    "    debug = True,\n",
    "    port = 8030\n",
    ")"
   ]
  },
  {
   "cell_type": "markdown",
   "metadata": {},
   "source": [
    "### Final thoughts\n",
    "Let's do the figure again, but this time let's also add a way to control the figure type"
   ]
  },
  {
   "cell_type": "code",
   "execution_count": 15,
   "metadata": {},
   "outputs": [
    {
     "data": {
      "application/vnd.plotly.v1+json": {
       "config": {
        "plotlyServerURL": "https://plot.ly"
       },
       "data": [
        {
         "mode": "markers",
         "name": "SEX AND AGE-Total population",
         "type": "scatter",
         "x": [
          2019,
          2018,
          2017,
          2016,
          2015,
          2014,
          2013,
          2012,
          2011,
          2010
         ],
         "y": [
          328239523,
          327167439,
          325719178,
          323127515,
          321418821,
          318857056,
          316128839,
          313914040,
          311591919,
          309349689
         ]
        }
       ],
       "layout": {
        "autosize": false,
        "height": 400,
        "paper_bgcolor": "white",
        "plot_bgcolor": "white",
        "template": {
         "data": {
          "bar": [
           {
            "error_x": {
             "color": "#2a3f5f"
            },
            "error_y": {
             "color": "#2a3f5f"
            },
            "marker": {
             "line": {
              "color": "#E5ECF6",
              "width": 0.5
             },
             "pattern": {
              "fillmode": "overlay",
              "size": 10,
              "solidity": 0.2
             }
            },
            "type": "bar"
           }
          ],
          "barpolar": [
           {
            "marker": {
             "line": {
              "color": "#E5ECF6",
              "width": 0.5
             },
             "pattern": {
              "fillmode": "overlay",
              "size": 10,
              "solidity": 0.2
             }
            },
            "type": "barpolar"
           }
          ],
          "carpet": [
           {
            "aaxis": {
             "endlinecolor": "#2a3f5f",
             "gridcolor": "white",
             "linecolor": "white",
             "minorgridcolor": "white",
             "startlinecolor": "#2a3f5f"
            },
            "baxis": {
             "endlinecolor": "#2a3f5f",
             "gridcolor": "white",
             "linecolor": "white",
             "minorgridcolor": "white",
             "startlinecolor": "#2a3f5f"
            },
            "type": "carpet"
           }
          ],
          "choropleth": [
           {
            "colorbar": {
             "outlinewidth": 0,
             "ticks": ""
            },
            "type": "choropleth"
           }
          ],
          "contour": [
           {
            "colorbar": {
             "outlinewidth": 0,
             "ticks": ""
            },
            "colorscale": [
             [
              0,
              "#0d0887"
             ],
             [
              0.1111111111111111,
              "#46039f"
             ],
             [
              0.2222222222222222,
              "#7201a8"
             ],
             [
              0.3333333333333333,
              "#9c179e"
             ],
             [
              0.4444444444444444,
              "#bd3786"
             ],
             [
              0.5555555555555556,
              "#d8576b"
             ],
             [
              0.6666666666666666,
              "#ed7953"
             ],
             [
              0.7777777777777778,
              "#fb9f3a"
             ],
             [
              0.8888888888888888,
              "#fdca26"
             ],
             [
              1,
              "#f0f921"
             ]
            ],
            "type": "contour"
           }
          ],
          "contourcarpet": [
           {
            "colorbar": {
             "outlinewidth": 0,
             "ticks": ""
            },
            "type": "contourcarpet"
           }
          ],
          "heatmap": [
           {
            "colorbar": {
             "outlinewidth": 0,
             "ticks": ""
            },
            "colorscale": [
             [
              0,
              "#0d0887"
             ],
             [
              0.1111111111111111,
              "#46039f"
             ],
             [
              0.2222222222222222,
              "#7201a8"
             ],
             [
              0.3333333333333333,
              "#9c179e"
             ],
             [
              0.4444444444444444,
              "#bd3786"
             ],
             [
              0.5555555555555556,
              "#d8576b"
             ],
             [
              0.6666666666666666,
              "#ed7953"
             ],
             [
              0.7777777777777778,
              "#fb9f3a"
             ],
             [
              0.8888888888888888,
              "#fdca26"
             ],
             [
              1,
              "#f0f921"
             ]
            ],
            "type": "heatmap"
           }
          ],
          "heatmapgl": [
           {
            "colorbar": {
             "outlinewidth": 0,
             "ticks": ""
            },
            "colorscale": [
             [
              0,
              "#0d0887"
             ],
             [
              0.1111111111111111,
              "#46039f"
             ],
             [
              0.2222222222222222,
              "#7201a8"
             ],
             [
              0.3333333333333333,
              "#9c179e"
             ],
             [
              0.4444444444444444,
              "#bd3786"
             ],
             [
              0.5555555555555556,
              "#d8576b"
             ],
             [
              0.6666666666666666,
              "#ed7953"
             ],
             [
              0.7777777777777778,
              "#fb9f3a"
             ],
             [
              0.8888888888888888,
              "#fdca26"
             ],
             [
              1,
              "#f0f921"
             ]
            ],
            "type": "heatmapgl"
           }
          ],
          "histogram": [
           {
            "marker": {
             "pattern": {
              "fillmode": "overlay",
              "size": 10,
              "solidity": 0.2
             }
            },
            "type": "histogram"
           }
          ],
          "histogram2d": [
           {
            "colorbar": {
             "outlinewidth": 0,
             "ticks": ""
            },
            "colorscale": [
             [
              0,
              "#0d0887"
             ],
             [
              0.1111111111111111,
              "#46039f"
             ],
             [
              0.2222222222222222,
              "#7201a8"
             ],
             [
              0.3333333333333333,
              "#9c179e"
             ],
             [
              0.4444444444444444,
              "#bd3786"
             ],
             [
              0.5555555555555556,
              "#d8576b"
             ],
             [
              0.6666666666666666,
              "#ed7953"
             ],
             [
              0.7777777777777778,
              "#fb9f3a"
             ],
             [
              0.8888888888888888,
              "#fdca26"
             ],
             [
              1,
              "#f0f921"
             ]
            ],
            "type": "histogram2d"
           }
          ],
          "histogram2dcontour": [
           {
            "colorbar": {
             "outlinewidth": 0,
             "ticks": ""
            },
            "colorscale": [
             [
              0,
              "#0d0887"
             ],
             [
              0.1111111111111111,
              "#46039f"
             ],
             [
              0.2222222222222222,
              "#7201a8"
             ],
             [
              0.3333333333333333,
              "#9c179e"
             ],
             [
              0.4444444444444444,
              "#bd3786"
             ],
             [
              0.5555555555555556,
              "#d8576b"
             ],
             [
              0.6666666666666666,
              "#ed7953"
             ],
             [
              0.7777777777777778,
              "#fb9f3a"
             ],
             [
              0.8888888888888888,
              "#fdca26"
             ],
             [
              1,
              "#f0f921"
             ]
            ],
            "type": "histogram2dcontour"
           }
          ],
          "mesh3d": [
           {
            "colorbar": {
             "outlinewidth": 0,
             "ticks": ""
            },
            "type": "mesh3d"
           }
          ],
          "parcoords": [
           {
            "line": {
             "colorbar": {
              "outlinewidth": 0,
              "ticks": ""
             }
            },
            "type": "parcoords"
           }
          ],
          "pie": [
           {
            "automargin": true,
            "type": "pie"
           }
          ],
          "scatter": [
           {
            "marker": {
             "colorbar": {
              "outlinewidth": 0,
              "ticks": ""
             }
            },
            "type": "scatter"
           }
          ],
          "scatter3d": [
           {
            "line": {
             "colorbar": {
              "outlinewidth": 0,
              "ticks": ""
             }
            },
            "marker": {
             "colorbar": {
              "outlinewidth": 0,
              "ticks": ""
             }
            },
            "type": "scatter3d"
           }
          ],
          "scattercarpet": [
           {
            "marker": {
             "colorbar": {
              "outlinewidth": 0,
              "ticks": ""
             }
            },
            "type": "scattercarpet"
           }
          ],
          "scattergeo": [
           {
            "marker": {
             "colorbar": {
              "outlinewidth": 0,
              "ticks": ""
             }
            },
            "type": "scattergeo"
           }
          ],
          "scattergl": [
           {
            "marker": {
             "colorbar": {
              "outlinewidth": 0,
              "ticks": ""
             }
            },
            "type": "scattergl"
           }
          ],
          "scattermapbox": [
           {
            "marker": {
             "colorbar": {
              "outlinewidth": 0,
              "ticks": ""
             }
            },
            "type": "scattermapbox"
           }
          ],
          "scatterpolar": [
           {
            "marker": {
             "colorbar": {
              "outlinewidth": 0,
              "ticks": ""
             }
            },
            "type": "scatterpolar"
           }
          ],
          "scatterpolargl": [
           {
            "marker": {
             "colorbar": {
              "outlinewidth": 0,
              "ticks": ""
             }
            },
            "type": "scatterpolargl"
           }
          ],
          "scatterternary": [
           {
            "marker": {
             "colorbar": {
              "outlinewidth": 0,
              "ticks": ""
             }
            },
            "type": "scatterternary"
           }
          ],
          "surface": [
           {
            "colorbar": {
             "outlinewidth": 0,
             "ticks": ""
            },
            "colorscale": [
             [
              0,
              "#0d0887"
             ],
             [
              0.1111111111111111,
              "#46039f"
             ],
             [
              0.2222222222222222,
              "#7201a8"
             ],
             [
              0.3333333333333333,
              "#9c179e"
             ],
             [
              0.4444444444444444,
              "#bd3786"
             ],
             [
              0.5555555555555556,
              "#d8576b"
             ],
             [
              0.6666666666666666,
              "#ed7953"
             ],
             [
              0.7777777777777778,
              "#fb9f3a"
             ],
             [
              0.8888888888888888,
              "#fdca26"
             ],
             [
              1,
              "#f0f921"
             ]
            ],
            "type": "surface"
           }
          ],
          "table": [
           {
            "cells": {
             "fill": {
              "color": "#EBF0F8"
             },
             "line": {
              "color": "white"
             }
            },
            "header": {
             "fill": {
              "color": "#C8D4E3"
             },
             "line": {
              "color": "white"
             }
            },
            "type": "table"
           }
          ]
         },
         "layout": {
          "annotationdefaults": {
           "arrowcolor": "#2a3f5f",
           "arrowhead": 0,
           "arrowwidth": 1
          },
          "autotypenumbers": "strict",
          "coloraxis": {
           "colorbar": {
            "outlinewidth": 0,
            "ticks": ""
           }
          },
          "colorscale": {
           "diverging": [
            [
             0,
             "#8e0152"
            ],
            [
             0.1,
             "#c51b7d"
            ],
            [
             0.2,
             "#de77ae"
            ],
            [
             0.3,
             "#f1b6da"
            ],
            [
             0.4,
             "#fde0ef"
            ],
            [
             0.5,
             "#f7f7f7"
            ],
            [
             0.6,
             "#e6f5d0"
            ],
            [
             0.7,
             "#b8e186"
            ],
            [
             0.8,
             "#7fbc41"
            ],
            [
             0.9,
             "#4d9221"
            ],
            [
             1,
             "#276419"
            ]
           ],
           "sequential": [
            [
             0,
             "#0d0887"
            ],
            [
             0.1111111111111111,
             "#46039f"
            ],
            [
             0.2222222222222222,
             "#7201a8"
            ],
            [
             0.3333333333333333,
             "#9c179e"
            ],
            [
             0.4444444444444444,
             "#bd3786"
            ],
            [
             0.5555555555555556,
             "#d8576b"
            ],
            [
             0.6666666666666666,
             "#ed7953"
            ],
            [
             0.7777777777777778,
             "#fb9f3a"
            ],
            [
             0.8888888888888888,
             "#fdca26"
            ],
            [
             1,
             "#f0f921"
            ]
           ],
           "sequentialminus": [
            [
             0,
             "#0d0887"
            ],
            [
             0.1111111111111111,
             "#46039f"
            ],
            [
             0.2222222222222222,
             "#7201a8"
            ],
            [
             0.3333333333333333,
             "#9c179e"
            ],
            [
             0.4444444444444444,
             "#bd3786"
            ],
            [
             0.5555555555555556,
             "#d8576b"
            ],
            [
             0.6666666666666666,
             "#ed7953"
            ],
            [
             0.7777777777777778,
             "#fb9f3a"
            ],
            [
             0.8888888888888888,
             "#fdca26"
            ],
            [
             1,
             "#f0f921"
            ]
           ]
          },
          "colorway": [
           "#636efa",
           "#EF553B",
           "#00cc96",
           "#ab63fa",
           "#FFA15A",
           "#19d3f3",
           "#FF6692",
           "#B6E880",
           "#FF97FF",
           "#FECB52"
          ],
          "font": {
           "color": "#2a3f5f"
          },
          "geo": {
           "bgcolor": "white",
           "lakecolor": "white",
           "landcolor": "#E5ECF6",
           "showlakes": true,
           "showland": true,
           "subunitcolor": "white"
          },
          "hoverlabel": {
           "align": "left"
          },
          "hovermode": "closest",
          "mapbox": {
           "style": "light"
          },
          "paper_bgcolor": "white",
          "plot_bgcolor": "#E5ECF6",
          "polar": {
           "angularaxis": {
            "gridcolor": "white",
            "linecolor": "white",
            "ticks": ""
           },
           "bgcolor": "#E5ECF6",
           "radialaxis": {
            "gridcolor": "white",
            "linecolor": "white",
            "ticks": ""
           }
          },
          "scene": {
           "xaxis": {
            "backgroundcolor": "#E5ECF6",
            "gridcolor": "white",
            "gridwidth": 2,
            "linecolor": "white",
            "showbackground": true,
            "ticks": "",
            "zerolinecolor": "white"
           },
           "yaxis": {
            "backgroundcolor": "#E5ECF6",
            "gridcolor": "white",
            "gridwidth": 2,
            "linecolor": "white",
            "showbackground": true,
            "ticks": "",
            "zerolinecolor": "white"
           },
           "zaxis": {
            "backgroundcolor": "#E5ECF6",
            "gridcolor": "white",
            "gridwidth": 2,
            "linecolor": "white",
            "showbackground": true,
            "ticks": "",
            "zerolinecolor": "white"
           }
          },
          "shapedefaults": {
           "line": {
            "color": "#2a3f5f"
           }
          },
          "ternary": {
           "aaxis": {
            "gridcolor": "white",
            "linecolor": "white",
            "ticks": ""
           },
           "baxis": {
            "gridcolor": "white",
            "linecolor": "white",
            "ticks": ""
           },
           "bgcolor": "#E5ECF6",
           "caxis": {
            "gridcolor": "white",
            "linecolor": "white",
            "ticks": ""
           }
          },
          "title": {
           "x": 0.05
          },
          "xaxis": {
           "automargin": true,
           "gridcolor": "white",
           "linecolor": "white",
           "ticks": "",
           "title": {
            "standoff": 15
           },
           "zerolinecolor": "white",
           "zerolinewidth": 2
          },
          "yaxis": {
           "automargin": true,
           "gridcolor": "white",
           "linecolor": "white",
           "ticks": "",
           "title": {
            "standoff": 15
           },
           "zerolinecolor": "white",
           "zerolinewidth": 2
          }
         }
        },
        "title": {
         "font": {
          "size": 22
         },
         "text": "Testing figure with markers only",
         "x": 0.5,
         "y": 0.95
        },
        "xaxis": {
         "linecolor": "black",
         "linewidth": 1,
         "showline": true,
         "title": {}
        },
        "yaxis": {
         "linecolor": "black",
         "linewidth": 1,
         "showline": true
        }
       }
      }
     },
     "metadata": {},
     "output_type": "display_data"
    },
    {
     "data": {
      "application/vnd.plotly.v1+json": {
       "config": {
        "plotlyServerURL": "https://plot.ly"
       },
       "data": [
        {
         "mode": "lines",
         "name": "SEX AND AGE-Total population",
         "type": "scatter",
         "x": [
          2019,
          2018,
          2017,
          2016,
          2015,
          2014,
          2013,
          2012,
          2011,
          2010
         ],
         "y": [
          328239523,
          327167439,
          325719178,
          323127515,
          321418821,
          318857056,
          316128839,
          313914040,
          311591919,
          309349689
         ]
        }
       ],
       "layout": {
        "autosize": false,
        "height": 400,
        "paper_bgcolor": "white",
        "plot_bgcolor": "white",
        "template": {
         "data": {
          "bar": [
           {
            "error_x": {
             "color": "#2a3f5f"
            },
            "error_y": {
             "color": "#2a3f5f"
            },
            "marker": {
             "line": {
              "color": "#E5ECF6",
              "width": 0.5
             },
             "pattern": {
              "fillmode": "overlay",
              "size": 10,
              "solidity": 0.2
             }
            },
            "type": "bar"
           }
          ],
          "barpolar": [
           {
            "marker": {
             "line": {
              "color": "#E5ECF6",
              "width": 0.5
             },
             "pattern": {
              "fillmode": "overlay",
              "size": 10,
              "solidity": 0.2
             }
            },
            "type": "barpolar"
           }
          ],
          "carpet": [
           {
            "aaxis": {
             "endlinecolor": "#2a3f5f",
             "gridcolor": "white",
             "linecolor": "white",
             "minorgridcolor": "white",
             "startlinecolor": "#2a3f5f"
            },
            "baxis": {
             "endlinecolor": "#2a3f5f",
             "gridcolor": "white",
             "linecolor": "white",
             "minorgridcolor": "white",
             "startlinecolor": "#2a3f5f"
            },
            "type": "carpet"
           }
          ],
          "choropleth": [
           {
            "colorbar": {
             "outlinewidth": 0,
             "ticks": ""
            },
            "type": "choropleth"
           }
          ],
          "contour": [
           {
            "colorbar": {
             "outlinewidth": 0,
             "ticks": ""
            },
            "colorscale": [
             [
              0,
              "#0d0887"
             ],
             [
              0.1111111111111111,
              "#46039f"
             ],
             [
              0.2222222222222222,
              "#7201a8"
             ],
             [
              0.3333333333333333,
              "#9c179e"
             ],
             [
              0.4444444444444444,
              "#bd3786"
             ],
             [
              0.5555555555555556,
              "#d8576b"
             ],
             [
              0.6666666666666666,
              "#ed7953"
             ],
             [
              0.7777777777777778,
              "#fb9f3a"
             ],
             [
              0.8888888888888888,
              "#fdca26"
             ],
             [
              1,
              "#f0f921"
             ]
            ],
            "type": "contour"
           }
          ],
          "contourcarpet": [
           {
            "colorbar": {
             "outlinewidth": 0,
             "ticks": ""
            },
            "type": "contourcarpet"
           }
          ],
          "heatmap": [
           {
            "colorbar": {
             "outlinewidth": 0,
             "ticks": ""
            },
            "colorscale": [
             [
              0,
              "#0d0887"
             ],
             [
              0.1111111111111111,
              "#46039f"
             ],
             [
              0.2222222222222222,
              "#7201a8"
             ],
             [
              0.3333333333333333,
              "#9c179e"
             ],
             [
              0.4444444444444444,
              "#bd3786"
             ],
             [
              0.5555555555555556,
              "#d8576b"
             ],
             [
              0.6666666666666666,
              "#ed7953"
             ],
             [
              0.7777777777777778,
              "#fb9f3a"
             ],
             [
              0.8888888888888888,
              "#fdca26"
             ],
             [
              1,
              "#f0f921"
             ]
            ],
            "type": "heatmap"
           }
          ],
          "heatmapgl": [
           {
            "colorbar": {
             "outlinewidth": 0,
             "ticks": ""
            },
            "colorscale": [
             [
              0,
              "#0d0887"
             ],
             [
              0.1111111111111111,
              "#46039f"
             ],
             [
              0.2222222222222222,
              "#7201a8"
             ],
             [
              0.3333333333333333,
              "#9c179e"
             ],
             [
              0.4444444444444444,
              "#bd3786"
             ],
             [
              0.5555555555555556,
              "#d8576b"
             ],
             [
              0.6666666666666666,
              "#ed7953"
             ],
             [
              0.7777777777777778,
              "#fb9f3a"
             ],
             [
              0.8888888888888888,
              "#fdca26"
             ],
             [
              1,
              "#f0f921"
             ]
            ],
            "type": "heatmapgl"
           }
          ],
          "histogram": [
           {
            "marker": {
             "pattern": {
              "fillmode": "overlay",
              "size": 10,
              "solidity": 0.2
             }
            },
            "type": "histogram"
           }
          ],
          "histogram2d": [
           {
            "colorbar": {
             "outlinewidth": 0,
             "ticks": ""
            },
            "colorscale": [
             [
              0,
              "#0d0887"
             ],
             [
              0.1111111111111111,
              "#46039f"
             ],
             [
              0.2222222222222222,
              "#7201a8"
             ],
             [
              0.3333333333333333,
              "#9c179e"
             ],
             [
              0.4444444444444444,
              "#bd3786"
             ],
             [
              0.5555555555555556,
              "#d8576b"
             ],
             [
              0.6666666666666666,
              "#ed7953"
             ],
             [
              0.7777777777777778,
              "#fb9f3a"
             ],
             [
              0.8888888888888888,
              "#fdca26"
             ],
             [
              1,
              "#f0f921"
             ]
            ],
            "type": "histogram2d"
           }
          ],
          "histogram2dcontour": [
           {
            "colorbar": {
             "outlinewidth": 0,
             "ticks": ""
            },
            "colorscale": [
             [
              0,
              "#0d0887"
             ],
             [
              0.1111111111111111,
              "#46039f"
             ],
             [
              0.2222222222222222,
              "#7201a8"
             ],
             [
              0.3333333333333333,
              "#9c179e"
             ],
             [
              0.4444444444444444,
              "#bd3786"
             ],
             [
              0.5555555555555556,
              "#d8576b"
             ],
             [
              0.6666666666666666,
              "#ed7953"
             ],
             [
              0.7777777777777778,
              "#fb9f3a"
             ],
             [
              0.8888888888888888,
              "#fdca26"
             ],
             [
              1,
              "#f0f921"
             ]
            ],
            "type": "histogram2dcontour"
           }
          ],
          "mesh3d": [
           {
            "colorbar": {
             "outlinewidth": 0,
             "ticks": ""
            },
            "type": "mesh3d"
           }
          ],
          "parcoords": [
           {
            "line": {
             "colorbar": {
              "outlinewidth": 0,
              "ticks": ""
             }
            },
            "type": "parcoords"
           }
          ],
          "pie": [
           {
            "automargin": true,
            "type": "pie"
           }
          ],
          "scatter": [
           {
            "marker": {
             "colorbar": {
              "outlinewidth": 0,
              "ticks": ""
             }
            },
            "type": "scatter"
           }
          ],
          "scatter3d": [
           {
            "line": {
             "colorbar": {
              "outlinewidth": 0,
              "ticks": ""
             }
            },
            "marker": {
             "colorbar": {
              "outlinewidth": 0,
              "ticks": ""
             }
            },
            "type": "scatter3d"
           }
          ],
          "scattercarpet": [
           {
            "marker": {
             "colorbar": {
              "outlinewidth": 0,
              "ticks": ""
             }
            },
            "type": "scattercarpet"
           }
          ],
          "scattergeo": [
           {
            "marker": {
             "colorbar": {
              "outlinewidth": 0,
              "ticks": ""
             }
            },
            "type": "scattergeo"
           }
          ],
          "scattergl": [
           {
            "marker": {
             "colorbar": {
              "outlinewidth": 0,
              "ticks": ""
             }
            },
            "type": "scattergl"
           }
          ],
          "scattermapbox": [
           {
            "marker": {
             "colorbar": {
              "outlinewidth": 0,
              "ticks": ""
             }
            },
            "type": "scattermapbox"
           }
          ],
          "scatterpolar": [
           {
            "marker": {
             "colorbar": {
              "outlinewidth": 0,
              "ticks": ""
             }
            },
            "type": "scatterpolar"
           }
          ],
          "scatterpolargl": [
           {
            "marker": {
             "colorbar": {
              "outlinewidth": 0,
              "ticks": ""
             }
            },
            "type": "scatterpolargl"
           }
          ],
          "scatterternary": [
           {
            "marker": {
             "colorbar": {
              "outlinewidth": 0,
              "ticks": ""
             }
            },
            "type": "scatterternary"
           }
          ],
          "surface": [
           {
            "colorbar": {
             "outlinewidth": 0,
             "ticks": ""
            },
            "colorscale": [
             [
              0,
              "#0d0887"
             ],
             [
              0.1111111111111111,
              "#46039f"
             ],
             [
              0.2222222222222222,
              "#7201a8"
             ],
             [
              0.3333333333333333,
              "#9c179e"
             ],
             [
              0.4444444444444444,
              "#bd3786"
             ],
             [
              0.5555555555555556,
              "#d8576b"
             ],
             [
              0.6666666666666666,
              "#ed7953"
             ],
             [
              0.7777777777777778,
              "#fb9f3a"
             ],
             [
              0.8888888888888888,
              "#fdca26"
             ],
             [
              1,
              "#f0f921"
             ]
            ],
            "type": "surface"
           }
          ],
          "table": [
           {
            "cells": {
             "fill": {
              "color": "#EBF0F8"
             },
             "line": {
              "color": "white"
             }
            },
            "header": {
             "fill": {
              "color": "#C8D4E3"
             },
             "line": {
              "color": "white"
             }
            },
            "type": "table"
           }
          ]
         },
         "layout": {
          "annotationdefaults": {
           "arrowcolor": "#2a3f5f",
           "arrowhead": 0,
           "arrowwidth": 1
          },
          "autotypenumbers": "strict",
          "coloraxis": {
           "colorbar": {
            "outlinewidth": 0,
            "ticks": ""
           }
          },
          "colorscale": {
           "diverging": [
            [
             0,
             "#8e0152"
            ],
            [
             0.1,
             "#c51b7d"
            ],
            [
             0.2,
             "#de77ae"
            ],
            [
             0.3,
             "#f1b6da"
            ],
            [
             0.4,
             "#fde0ef"
            ],
            [
             0.5,
             "#f7f7f7"
            ],
            [
             0.6,
             "#e6f5d0"
            ],
            [
             0.7,
             "#b8e186"
            ],
            [
             0.8,
             "#7fbc41"
            ],
            [
             0.9,
             "#4d9221"
            ],
            [
             1,
             "#276419"
            ]
           ],
           "sequential": [
            [
             0,
             "#0d0887"
            ],
            [
             0.1111111111111111,
             "#46039f"
            ],
            [
             0.2222222222222222,
             "#7201a8"
            ],
            [
             0.3333333333333333,
             "#9c179e"
            ],
            [
             0.4444444444444444,
             "#bd3786"
            ],
            [
             0.5555555555555556,
             "#d8576b"
            ],
            [
             0.6666666666666666,
             "#ed7953"
            ],
            [
             0.7777777777777778,
             "#fb9f3a"
            ],
            [
             0.8888888888888888,
             "#fdca26"
            ],
            [
             1,
             "#f0f921"
            ]
           ],
           "sequentialminus": [
            [
             0,
             "#0d0887"
            ],
            [
             0.1111111111111111,
             "#46039f"
            ],
            [
             0.2222222222222222,
             "#7201a8"
            ],
            [
             0.3333333333333333,
             "#9c179e"
            ],
            [
             0.4444444444444444,
             "#bd3786"
            ],
            [
             0.5555555555555556,
             "#d8576b"
            ],
            [
             0.6666666666666666,
             "#ed7953"
            ],
            [
             0.7777777777777778,
             "#fb9f3a"
            ],
            [
             0.8888888888888888,
             "#fdca26"
            ],
            [
             1,
             "#f0f921"
            ]
           ]
          },
          "colorway": [
           "#636efa",
           "#EF553B",
           "#00cc96",
           "#ab63fa",
           "#FFA15A",
           "#19d3f3",
           "#FF6692",
           "#B6E880",
           "#FF97FF",
           "#FECB52"
          ],
          "font": {
           "color": "#2a3f5f"
          },
          "geo": {
           "bgcolor": "white",
           "lakecolor": "white",
           "landcolor": "#E5ECF6",
           "showlakes": true,
           "showland": true,
           "subunitcolor": "white"
          },
          "hoverlabel": {
           "align": "left"
          },
          "hovermode": "closest",
          "mapbox": {
           "style": "light"
          },
          "paper_bgcolor": "white",
          "plot_bgcolor": "#E5ECF6",
          "polar": {
           "angularaxis": {
            "gridcolor": "white",
            "linecolor": "white",
            "ticks": ""
           },
           "bgcolor": "#E5ECF6",
           "radialaxis": {
            "gridcolor": "white",
            "linecolor": "white",
            "ticks": ""
           }
          },
          "scene": {
           "xaxis": {
            "backgroundcolor": "#E5ECF6",
            "gridcolor": "white",
            "gridwidth": 2,
            "linecolor": "white",
            "showbackground": true,
            "ticks": "",
            "zerolinecolor": "white"
           },
           "yaxis": {
            "backgroundcolor": "#E5ECF6",
            "gridcolor": "white",
            "gridwidth": 2,
            "linecolor": "white",
            "showbackground": true,
            "ticks": "",
            "zerolinecolor": "white"
           },
           "zaxis": {
            "backgroundcolor": "#E5ECF6",
            "gridcolor": "white",
            "gridwidth": 2,
            "linecolor": "white",
            "showbackground": true,
            "ticks": "",
            "zerolinecolor": "white"
           }
          },
          "shapedefaults": {
           "line": {
            "color": "#2a3f5f"
           }
          },
          "ternary": {
           "aaxis": {
            "gridcolor": "white",
            "linecolor": "white",
            "ticks": ""
           },
           "baxis": {
            "gridcolor": "white",
            "linecolor": "white",
            "ticks": ""
           },
           "bgcolor": "#E5ECF6",
           "caxis": {
            "gridcolor": "white",
            "linecolor": "white",
            "ticks": ""
           }
          },
          "title": {
           "x": 0.05
          },
          "xaxis": {
           "automargin": true,
           "gridcolor": "white",
           "linecolor": "white",
           "ticks": "",
           "title": {
            "standoff": 15
           },
           "zerolinecolor": "white",
           "zerolinewidth": 2
          },
          "yaxis": {
           "automargin": true,
           "gridcolor": "white",
           "linecolor": "white",
           "ticks": "",
           "title": {
            "standoff": 15
           },
           "zerolinecolor": "white",
           "zerolinewidth": 2
          }
         }
        },
        "title": {
         "font": {
          "size": 22
         },
         "text": "Testing figure with lines",
         "x": 0.5,
         "y": 0.95
        },
        "xaxis": {
         "linecolor": "black",
         "linewidth": 1,
         "showline": true,
         "title": {}
        },
        "yaxis": {
         "linecolor": "black",
         "linewidth": 1,
         "showline": true
        }
       }
      }
     },
     "metadata": {},
     "output_type": "display_data"
    }
   ],
   "source": [
    "def plot_curve(series_name, description, fig, mode = 'lines'):\n",
    "    this_data = data.loc[data['name'] == series_name].copy()     #in case we need to modify the slice\n",
    "    x = this_data['year'].to_list()\n",
    "    y = this_data['data'].to_list()\n",
    "    \n",
    "    fig.add_trace(go.Scatter(y = y, x = x, name = description, mode = mode))\n",
    "    \n",
    "    return(fig)\n",
    "\n",
    "# For testing\n",
    "fig = get_figure('Testing figure with markers only')\n",
    "series_name = 'DP05_0001E'\n",
    "description = 'SEX AND AGE-Total population'\n",
    "fig = plot_curve(series_name, description, fig, 'markers')\n",
    "fig.show()\n",
    "fig = get_figure('Testing figure with lines')\n",
    "fig = plot_curve(series_name, description, fig)\n",
    "fig.show()"
   ]
  },
  {
   "cell_type": "markdown",
   "metadata": {},
   "source": [
    "And now, let's make some sub-plots"
   ]
  },
  {
   "cell_type": "code",
   "execution_count": 16,
   "metadata": {},
   "outputs": [
    {
     "data": {
      "application/vnd.plotly.v1+json": {
       "config": {
        "plotlyServerURL": "https://plot.ly"
       },
       "data": [
        {
         "marker": {
          "color": [
           0,
           1,
           2,
           3,
           4,
           5,
           6,
           7,
           8,
           9
          ],
          "size": [
           100,
           90,
           80,
           70,
           60,
           50,
           40,
           30,
           20
          ]
         },
         "mode": "markers",
         "name": "Male",
         "type": "scatter",
         "x": [
          2019,
          2018,
          2017,
          2016,
          2015,
          2014,
          2013,
          2012,
          2011,
          2010
         ],
         "xaxis": "x",
         "y": [
          166650550,
          166049288,
          165316674,
          164065884,
          163250987,
          161966955,
          160501141,
          159477797,
          158324058,
          157260239
         ],
         "yaxis": "y"
        },
        {
         "marker": {
          "color": [
           0,
           1,
           2,
           3,
           4,
           5,
           6,
           7,
           8,
           9
          ],
          "size": [
           100,
           90,
           80,
           70,
           60,
           50,
           40,
           30,
           20
          ]
         },
         "mode": "markers",
         "name": "Female",
         "type": "scatter",
         "x": [
          2019,
          2018,
          2017,
          2016,
          2015,
          2014,
          2013,
          2012,
          2011,
          2010
         ],
         "xaxis": "x2",
         "y": [
          161588973,
          161118151,
          160402504,
          159061631,
          158167834,
          156890101,
          155627698,
          154436243,
          153267861,
          152089450
         ],
         "yaxis": "y2"
        }
       ],
       "layout": {
        "autosize": false,
        "height": 400,
        "paper_bgcolor": "white",
        "plot_bgcolor": "white",
        "template": {
         "data": {
          "bar": [
           {
            "error_x": {
             "color": "#2a3f5f"
            },
            "error_y": {
             "color": "#2a3f5f"
            },
            "marker": {
             "line": {
              "color": "#E5ECF6",
              "width": 0.5
             },
             "pattern": {
              "fillmode": "overlay",
              "size": 10,
              "solidity": 0.2
             }
            },
            "type": "bar"
           }
          ],
          "barpolar": [
           {
            "marker": {
             "line": {
              "color": "#E5ECF6",
              "width": 0.5
             },
             "pattern": {
              "fillmode": "overlay",
              "size": 10,
              "solidity": 0.2
             }
            },
            "type": "barpolar"
           }
          ],
          "carpet": [
           {
            "aaxis": {
             "endlinecolor": "#2a3f5f",
             "gridcolor": "white",
             "linecolor": "white",
             "minorgridcolor": "white",
             "startlinecolor": "#2a3f5f"
            },
            "baxis": {
             "endlinecolor": "#2a3f5f",
             "gridcolor": "white",
             "linecolor": "white",
             "minorgridcolor": "white",
             "startlinecolor": "#2a3f5f"
            },
            "type": "carpet"
           }
          ],
          "choropleth": [
           {
            "colorbar": {
             "outlinewidth": 0,
             "ticks": ""
            },
            "type": "choropleth"
           }
          ],
          "contour": [
           {
            "colorbar": {
             "outlinewidth": 0,
             "ticks": ""
            },
            "colorscale": [
             [
              0,
              "#0d0887"
             ],
             [
              0.1111111111111111,
              "#46039f"
             ],
             [
              0.2222222222222222,
              "#7201a8"
             ],
             [
              0.3333333333333333,
              "#9c179e"
             ],
             [
              0.4444444444444444,
              "#bd3786"
             ],
             [
              0.5555555555555556,
              "#d8576b"
             ],
             [
              0.6666666666666666,
              "#ed7953"
             ],
             [
              0.7777777777777778,
              "#fb9f3a"
             ],
             [
              0.8888888888888888,
              "#fdca26"
             ],
             [
              1,
              "#f0f921"
             ]
            ],
            "type": "contour"
           }
          ],
          "contourcarpet": [
           {
            "colorbar": {
             "outlinewidth": 0,
             "ticks": ""
            },
            "type": "contourcarpet"
           }
          ],
          "heatmap": [
           {
            "colorbar": {
             "outlinewidth": 0,
             "ticks": ""
            },
            "colorscale": [
             [
              0,
              "#0d0887"
             ],
             [
              0.1111111111111111,
              "#46039f"
             ],
             [
              0.2222222222222222,
              "#7201a8"
             ],
             [
              0.3333333333333333,
              "#9c179e"
             ],
             [
              0.4444444444444444,
              "#bd3786"
             ],
             [
              0.5555555555555556,
              "#d8576b"
             ],
             [
              0.6666666666666666,
              "#ed7953"
             ],
             [
              0.7777777777777778,
              "#fb9f3a"
             ],
             [
              0.8888888888888888,
              "#fdca26"
             ],
             [
              1,
              "#f0f921"
             ]
            ],
            "type": "heatmap"
           }
          ],
          "heatmapgl": [
           {
            "colorbar": {
             "outlinewidth": 0,
             "ticks": ""
            },
            "colorscale": [
             [
              0,
              "#0d0887"
             ],
             [
              0.1111111111111111,
              "#46039f"
             ],
             [
              0.2222222222222222,
              "#7201a8"
             ],
             [
              0.3333333333333333,
              "#9c179e"
             ],
             [
              0.4444444444444444,
              "#bd3786"
             ],
             [
              0.5555555555555556,
              "#d8576b"
             ],
             [
              0.6666666666666666,
              "#ed7953"
             ],
             [
              0.7777777777777778,
              "#fb9f3a"
             ],
             [
              0.8888888888888888,
              "#fdca26"
             ],
             [
              1,
              "#f0f921"
             ]
            ],
            "type": "heatmapgl"
           }
          ],
          "histogram": [
           {
            "marker": {
             "pattern": {
              "fillmode": "overlay",
              "size": 10,
              "solidity": 0.2
             }
            },
            "type": "histogram"
           }
          ],
          "histogram2d": [
           {
            "colorbar": {
             "outlinewidth": 0,
             "ticks": ""
            },
            "colorscale": [
             [
              0,
              "#0d0887"
             ],
             [
              0.1111111111111111,
              "#46039f"
             ],
             [
              0.2222222222222222,
              "#7201a8"
             ],
             [
              0.3333333333333333,
              "#9c179e"
             ],
             [
              0.4444444444444444,
              "#bd3786"
             ],
             [
              0.5555555555555556,
              "#d8576b"
             ],
             [
              0.6666666666666666,
              "#ed7953"
             ],
             [
              0.7777777777777778,
              "#fb9f3a"
             ],
             [
              0.8888888888888888,
              "#fdca26"
             ],
             [
              1,
              "#f0f921"
             ]
            ],
            "type": "histogram2d"
           }
          ],
          "histogram2dcontour": [
           {
            "colorbar": {
             "outlinewidth": 0,
             "ticks": ""
            },
            "colorscale": [
             [
              0,
              "#0d0887"
             ],
             [
              0.1111111111111111,
              "#46039f"
             ],
             [
              0.2222222222222222,
              "#7201a8"
             ],
             [
              0.3333333333333333,
              "#9c179e"
             ],
             [
              0.4444444444444444,
              "#bd3786"
             ],
             [
              0.5555555555555556,
              "#d8576b"
             ],
             [
              0.6666666666666666,
              "#ed7953"
             ],
             [
              0.7777777777777778,
              "#fb9f3a"
             ],
             [
              0.8888888888888888,
              "#fdca26"
             ],
             [
              1,
              "#f0f921"
             ]
            ],
            "type": "histogram2dcontour"
           }
          ],
          "mesh3d": [
           {
            "colorbar": {
             "outlinewidth": 0,
             "ticks": ""
            },
            "type": "mesh3d"
           }
          ],
          "parcoords": [
           {
            "line": {
             "colorbar": {
              "outlinewidth": 0,
              "ticks": ""
             }
            },
            "type": "parcoords"
           }
          ],
          "pie": [
           {
            "automargin": true,
            "type": "pie"
           }
          ],
          "scatter": [
           {
            "marker": {
             "colorbar": {
              "outlinewidth": 0,
              "ticks": ""
             }
            },
            "type": "scatter"
           }
          ],
          "scatter3d": [
           {
            "line": {
             "colorbar": {
              "outlinewidth": 0,
              "ticks": ""
             }
            },
            "marker": {
             "colorbar": {
              "outlinewidth": 0,
              "ticks": ""
             }
            },
            "type": "scatter3d"
           }
          ],
          "scattercarpet": [
           {
            "marker": {
             "colorbar": {
              "outlinewidth": 0,
              "ticks": ""
             }
            },
            "type": "scattercarpet"
           }
          ],
          "scattergeo": [
           {
            "marker": {
             "colorbar": {
              "outlinewidth": 0,
              "ticks": ""
             }
            },
            "type": "scattergeo"
           }
          ],
          "scattergl": [
           {
            "marker": {
             "colorbar": {
              "outlinewidth": 0,
              "ticks": ""
             }
            },
            "type": "scattergl"
           }
          ],
          "scattermapbox": [
           {
            "marker": {
             "colorbar": {
              "outlinewidth": 0,
              "ticks": ""
             }
            },
            "type": "scattermapbox"
           }
          ],
          "scatterpolar": [
           {
            "marker": {
             "colorbar": {
              "outlinewidth": 0,
              "ticks": ""
             }
            },
            "type": "scatterpolar"
           }
          ],
          "scatterpolargl": [
           {
            "marker": {
             "colorbar": {
              "outlinewidth": 0,
              "ticks": ""
             }
            },
            "type": "scatterpolargl"
           }
          ],
          "scatterternary": [
           {
            "marker": {
             "colorbar": {
              "outlinewidth": 0,
              "ticks": ""
             }
            },
            "type": "scatterternary"
           }
          ],
          "surface": [
           {
            "colorbar": {
             "outlinewidth": 0,
             "ticks": ""
            },
            "colorscale": [
             [
              0,
              "#0d0887"
             ],
             [
              0.1111111111111111,
              "#46039f"
             ],
             [
              0.2222222222222222,
              "#7201a8"
             ],
             [
              0.3333333333333333,
              "#9c179e"
             ],
             [
              0.4444444444444444,
              "#bd3786"
             ],
             [
              0.5555555555555556,
              "#d8576b"
             ],
             [
              0.6666666666666666,
              "#ed7953"
             ],
             [
              0.7777777777777778,
              "#fb9f3a"
             ],
             [
              0.8888888888888888,
              "#fdca26"
             ],
             [
              1,
              "#f0f921"
             ]
            ],
            "type": "surface"
           }
          ],
          "table": [
           {
            "cells": {
             "fill": {
              "color": "#EBF0F8"
             },
             "line": {
              "color": "white"
             }
            },
            "header": {
             "fill": {
              "color": "#C8D4E3"
             },
             "line": {
              "color": "white"
             }
            },
            "type": "table"
           }
          ]
         },
         "layout": {
          "annotationdefaults": {
           "arrowcolor": "#2a3f5f",
           "arrowhead": 0,
           "arrowwidth": 1
          },
          "autotypenumbers": "strict",
          "coloraxis": {
           "colorbar": {
            "outlinewidth": 0,
            "ticks": ""
           }
          },
          "colorscale": {
           "diverging": [
            [
             0,
             "#8e0152"
            ],
            [
             0.1,
             "#c51b7d"
            ],
            [
             0.2,
             "#de77ae"
            ],
            [
             0.3,
             "#f1b6da"
            ],
            [
             0.4,
             "#fde0ef"
            ],
            [
             0.5,
             "#f7f7f7"
            ],
            [
             0.6,
             "#e6f5d0"
            ],
            [
             0.7,
             "#b8e186"
            ],
            [
             0.8,
             "#7fbc41"
            ],
            [
             0.9,
             "#4d9221"
            ],
            [
             1,
             "#276419"
            ]
           ],
           "sequential": [
            [
             0,
             "#0d0887"
            ],
            [
             0.1111111111111111,
             "#46039f"
            ],
            [
             0.2222222222222222,
             "#7201a8"
            ],
            [
             0.3333333333333333,
             "#9c179e"
            ],
            [
             0.4444444444444444,
             "#bd3786"
            ],
            [
             0.5555555555555556,
             "#d8576b"
            ],
            [
             0.6666666666666666,
             "#ed7953"
            ],
            [
             0.7777777777777778,
             "#fb9f3a"
            ],
            [
             0.8888888888888888,
             "#fdca26"
            ],
            [
             1,
             "#f0f921"
            ]
           ],
           "sequentialminus": [
            [
             0,
             "#0d0887"
            ],
            [
             0.1111111111111111,
             "#46039f"
            ],
            [
             0.2222222222222222,
             "#7201a8"
            ],
            [
             0.3333333333333333,
             "#9c179e"
            ],
            [
             0.4444444444444444,
             "#bd3786"
            ],
            [
             0.5555555555555556,
             "#d8576b"
            ],
            [
             0.6666666666666666,
             "#ed7953"
            ],
            [
             0.7777777777777778,
             "#fb9f3a"
            ],
            [
             0.8888888888888888,
             "#fdca26"
            ],
            [
             1,
             "#f0f921"
            ]
           ]
          },
          "colorway": [
           "#636efa",
           "#EF553B",
           "#00cc96",
           "#ab63fa",
           "#FFA15A",
           "#19d3f3",
           "#FF6692",
           "#B6E880",
           "#FF97FF",
           "#FECB52"
          ],
          "font": {
           "color": "#2a3f5f"
          },
          "geo": {
           "bgcolor": "white",
           "lakecolor": "white",
           "landcolor": "#E5ECF6",
           "showlakes": true,
           "showland": true,
           "subunitcolor": "white"
          },
          "hoverlabel": {
           "align": "left"
          },
          "hovermode": "closest",
          "mapbox": {
           "style": "light"
          },
          "paper_bgcolor": "white",
          "plot_bgcolor": "#E5ECF6",
          "polar": {
           "angularaxis": {
            "gridcolor": "white",
            "linecolor": "white",
            "ticks": ""
           },
           "bgcolor": "#E5ECF6",
           "radialaxis": {
            "gridcolor": "white",
            "linecolor": "white",
            "ticks": ""
           }
          },
          "scene": {
           "xaxis": {
            "backgroundcolor": "#E5ECF6",
            "gridcolor": "white",
            "gridwidth": 2,
            "linecolor": "white",
            "showbackground": true,
            "ticks": "",
            "zerolinecolor": "white"
           },
           "yaxis": {
            "backgroundcolor": "#E5ECF6",
            "gridcolor": "white",
            "gridwidth": 2,
            "linecolor": "white",
            "showbackground": true,
            "ticks": "",
            "zerolinecolor": "white"
           },
           "zaxis": {
            "backgroundcolor": "#E5ECF6",
            "gridcolor": "white",
            "gridwidth": 2,
            "linecolor": "white",
            "showbackground": true,
            "ticks": "",
            "zerolinecolor": "white"
           }
          },
          "shapedefaults": {
           "line": {
            "color": "#2a3f5f"
           }
          },
          "ternary": {
           "aaxis": {
            "gridcolor": "white",
            "linecolor": "white",
            "ticks": ""
           },
           "baxis": {
            "gridcolor": "white",
            "linecolor": "white",
            "ticks": ""
           },
           "bgcolor": "#E5ECF6",
           "caxis": {
            "gridcolor": "white",
            "linecolor": "white",
            "ticks": ""
           }
          },
          "title": {
           "x": 0.05
          },
          "xaxis": {
           "automargin": true,
           "gridcolor": "white",
           "linecolor": "white",
           "ticks": "",
           "title": {
            "standoff": 15
           },
           "zerolinecolor": "white",
           "zerolinewidth": 2
          },
          "yaxis": {
           "automargin": true,
           "gridcolor": "white",
           "linecolor": "white",
           "ticks": "",
           "title": {
            "standoff": 15
           },
           "zerolinecolor": "white",
           "zerolinewidth": 2
          }
         }
        },
        "title": {
         "font": {
          "size": 22
         },
         "text": "Male and Female US Population",
         "x": 0.5,
         "y": 0.95
        },
        "xaxis": {
         "anchor": "y",
         "domain": [
          0,
          1
         ],
         "linecolor": "black",
         "linewidth": 1,
         "showline": true
        },
        "xaxis2": {
         "anchor": "y2",
         "domain": [
          0,
          1
         ],
         "linecolor": "black",
         "linewidth": 1,
         "showline": true,
         "title": {
          "text": "Estimated Population"
         }
        },
        "yaxis": {
         "anchor": "x",
         "domain": [
          0.575,
          1
         ],
         "linecolor": "black",
         "linewidth": 1,
         "showline": true
        },
        "yaxis2": {
         "anchor": "x2",
         "domain": [
          0,
          0.425
         ]
        }
       }
      }
     },
     "metadata": {},
     "output_type": "display_data"
    }
   ],
   "source": [
    "from plotly.subplots import make_subplots\n",
    "\n",
    "# sadly, I have to start up the figure again.\n",
    "fig = make_subplots(rows = 2, cols = 1)\n",
    "\n",
    "# Let's grab male and female populations\n",
    "names = ['Male', 'Female']\n",
    "for pos, name in enumerate(['DP05_0003E', 'DP05_0002E']):\n",
    "    fig.add_trace(\n",
    "        go.Scatter(\n",
    "            x = data.loc[data['name'] == name]['year'].to_list(),\n",
    "            y = data.loc[data['name'] == name]['data'].to_list(),\n",
    "            name = names[pos],\n",
    "            mode = 'markers',\n",
    "            ###### This is not shown because of the lines mode\n",
    "            marker = dict(\n",
    "                size = [10*x for x in range(10, 1, -1)],\n",
    "                color = [x for x in range(10)],\n",
    "            )\n",
    "        ), row = pos + 1, col = 1\n",
    "    )\n",
    "# my usual update\n",
    "fig.update_layout(\n",
    "    # this is a function taking multiple kwargs where complex args have to be passed as dictionaries\n",
    "    title = {\n",
    "        'text': 'Male and Female US Population',\n",
    "        'y': 0.95,\n",
    "        'x': 0.5,\n",
    "        'font': {'size': 22}\n",
    "    },\n",
    "    paper_bgcolor = 'white',\n",
    "    plot_bgcolor = 'white',\n",
    "    autosize = False,\n",
    "    height = 400,\n",
    "    xaxis = {\n",
    "        'showline': True, \n",
    "        'linewidth': 1,\n",
    "        'linecolor': 'black'\n",
    "    },\n",
    "    xaxis2 = {\n",
    "        'title': 'Estimated Population',\n",
    "        'showline': True, \n",
    "        'linewidth': 1,\n",
    "        'linecolor': 'black'\n",
    "    },\n",
    "    \n",
    "    yaxis = {\n",
    "        'showline': True, \n",
    "        'linewidth': 1,\n",
    "        'linecolor': 'black'\n",
    "    }\n",
    ")\n"
   ]
  },
  {
   "cell_type": "code",
   "execution_count": null,
   "metadata": {},
   "outputs": [],
   "source": []
  }
 ],
 "metadata": {
  "celltoolbar": "Raw Cell Format",
  "colab": {
   "collapsed_sections": [],
   "name": "Homework III.ipynb",
   "provenance": []
  },
  "kernelspec": {
   "display_name": "Python 3",
   "language": "python",
   "name": "python3"
  },
  "language_info": {
   "codemirror_mode": {
    "name": "ipython",
    "version": 3
   },
   "file_extension": ".py",
   "mimetype": "text/x-python",
   "name": "python",
   "nbconvert_exporter": "python",
   "pygments_lexer": "ipython3",
   "version": "3.8.8"
  }
 },
 "nbformat": 4,
 "nbformat_minor": 1
}
